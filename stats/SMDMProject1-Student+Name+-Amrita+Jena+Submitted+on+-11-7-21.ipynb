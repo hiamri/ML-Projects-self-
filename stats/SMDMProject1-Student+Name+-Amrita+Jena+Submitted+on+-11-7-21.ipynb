{
 "cells": [
  {
   "cell_type": "code",
   "execution_count": 4,
   "metadata": {},
   "outputs": [],
   "source": [
    "import numpy as np\n",
    "import pandas as pd\n",
    "pd.set_option('display.float_format', lambda x: '%.2f' % x)\n",
    "import scipy.stats as stats\n",
    "import matplotlib.pyplot as plt\n",
    "import seaborn as sns"
   ]
  },
  {
   "cell_type": "markdown",
   "metadata": {},
   "source": [
    "The ‘Wholesale Customer data’ dataset is imported in python to analyze the spend under each store\n",
    "items across regions and channel to find solutions to each problem. Below is the detailed approach and\n",
    "answer.\n"
   ]
  },
  {
   "cell_type": "markdown",
   "metadata": {},
   "source": []
  },
  {
   "cell_type": "code",
   "execution_count": 16,
   "metadata": {},
   "outputs": [],
   "source": [
    "df= pd.read_csv('C:/Users/amvi/Downloads/Wholesale+Customers+Data.csv')"
   ]
  },
  {
   "cell_type": "code",
   "execution_count": 17,
   "metadata": {},
   "outputs": [
    {
     "data": {
      "text/html": [
       "<div>\n",
       "<style scoped>\n",
       "    .dataframe tbody tr th:only-of-type {\n",
       "        vertical-align: middle;\n",
       "    }\n",
       "\n",
       "    .dataframe tbody tr th {\n",
       "        vertical-align: top;\n",
       "    }\n",
       "\n",
       "    .dataframe thead th {\n",
       "        text-align: right;\n",
       "    }\n",
       "</style>\n",
       "<table border=\"1\" class=\"dataframe\">\n",
       "  <thead>\n",
       "    <tr style=\"text-align: right;\">\n",
       "      <th></th>\n",
       "      <th>Buyer/Spender</th>\n",
       "      <th>Channel</th>\n",
       "      <th>Region</th>\n",
       "      <th>Fresh</th>\n",
       "      <th>Milk</th>\n",
       "      <th>Grocery</th>\n",
       "      <th>Frozen</th>\n",
       "      <th>Detergents_Paper</th>\n",
       "      <th>Delicatessen</th>\n",
       "    </tr>\n",
       "  </thead>\n",
       "  <tbody>\n",
       "    <tr>\n",
       "      <td>0</td>\n",
       "      <td>1.00</td>\n",
       "      <td>Retail</td>\n",
       "      <td>Other</td>\n",
       "      <td>12669</td>\n",
       "      <td>9656</td>\n",
       "      <td>7561</td>\n",
       "      <td>214</td>\n",
       "      <td>2674</td>\n",
       "      <td>1338</td>\n",
       "    </tr>\n",
       "    <tr>\n",
       "      <td>1</td>\n",
       "      <td>2.00</td>\n",
       "      <td>Retail</td>\n",
       "      <td>Other</td>\n",
       "      <td>7057</td>\n",
       "      <td>9810</td>\n",
       "      <td>9568</td>\n",
       "      <td>1762</td>\n",
       "      <td>3293</td>\n",
       "      <td>1776</td>\n",
       "    </tr>\n",
       "    <tr>\n",
       "      <td>2</td>\n",
       "      <td>3.00</td>\n",
       "      <td>Retail</td>\n",
       "      <td>Other</td>\n",
       "      <td>6353</td>\n",
       "      <td>8808</td>\n",
       "      <td>7684</td>\n",
       "      <td>2405</td>\n",
       "      <td>3516</td>\n",
       "      <td>7844</td>\n",
       "    </tr>\n",
       "    <tr>\n",
       "      <td>3</td>\n",
       "      <td>4.00</td>\n",
       "      <td>Hotel</td>\n",
       "      <td>Other</td>\n",
       "      <td>13265</td>\n",
       "      <td>1196</td>\n",
       "      <td>4221</td>\n",
       "      <td>6404</td>\n",
       "      <td>507</td>\n",
       "      <td>1788</td>\n",
       "    </tr>\n",
       "    <tr>\n",
       "      <td>4</td>\n",
       "      <td>5.00</td>\n",
       "      <td>Retail</td>\n",
       "      <td>Other</td>\n",
       "      <td>22615</td>\n",
       "      <td>5410</td>\n",
       "      <td>7198</td>\n",
       "      <td>3915</td>\n",
       "      <td>1777</td>\n",
       "      <td>5185</td>\n",
       "    </tr>\n",
       "    <tr>\n",
       "      <td>...</td>\n",
       "      <td>...</td>\n",
       "      <td>...</td>\n",
       "      <td>...</td>\n",
       "      <td>...</td>\n",
       "      <td>...</td>\n",
       "      <td>...</td>\n",
       "      <td>...</td>\n",
       "      <td>...</td>\n",
       "      <td>...</td>\n",
       "    </tr>\n",
       "    <tr>\n",
       "      <td>436</td>\n",
       "      <td>437.00</td>\n",
       "      <td>Hotel</td>\n",
       "      <td>Other</td>\n",
       "      <td>39228</td>\n",
       "      <td>1431</td>\n",
       "      <td>764</td>\n",
       "      <td>4510</td>\n",
       "      <td>93</td>\n",
       "      <td>2346</td>\n",
       "    </tr>\n",
       "    <tr>\n",
       "      <td>437</td>\n",
       "      <td>438.00</td>\n",
       "      <td>Retail</td>\n",
       "      <td>Other</td>\n",
       "      <td>14531</td>\n",
       "      <td>15488</td>\n",
       "      <td>30243</td>\n",
       "      <td>437</td>\n",
       "      <td>14841</td>\n",
       "      <td>1867</td>\n",
       "    </tr>\n",
       "    <tr>\n",
       "      <td>438</td>\n",
       "      <td>439.00</td>\n",
       "      <td>Hotel</td>\n",
       "      <td>Other</td>\n",
       "      <td>10290</td>\n",
       "      <td>1981</td>\n",
       "      <td>2232</td>\n",
       "      <td>1038</td>\n",
       "      <td>168</td>\n",
       "      <td>2125</td>\n",
       "    </tr>\n",
       "    <tr>\n",
       "      <td>439</td>\n",
       "      <td>440.00</td>\n",
       "      <td>Hotel</td>\n",
       "      <td>Other</td>\n",
       "      <td>2787</td>\n",
       "      <td>1698</td>\n",
       "      <td>2510</td>\n",
       "      <td>65</td>\n",
       "      <td>477</td>\n",
       "      <td>52</td>\n",
       "    </tr>\n",
       "    <tr>\n",
       "      <td>440</td>\n",
       "      <td>nan</td>\n",
       "      <td>NaN</td>\n",
       "      <td>NaN</td>\n",
       "      <td>13410</td>\n",
       "      <td>18618</td>\n",
       "      <td>17252</td>\n",
       "      <td>4167</td>\n",
       "      <td>6809</td>\n",
       "      <td>9620</td>\n",
       "    </tr>\n",
       "  </tbody>\n",
       "</table>\n",
       "<p>441 rows × 9 columns</p>\n",
       "</div>"
      ],
      "text/plain": [
       "     Buyer/Spender Channel Region  Fresh   Milk  Grocery  Frozen  \\\n",
       "0             1.00  Retail  Other  12669   9656     7561     214   \n",
       "1             2.00  Retail  Other   7057   9810     9568    1762   \n",
       "2             3.00  Retail  Other   6353   8808     7684    2405   \n",
       "3             4.00   Hotel  Other  13265   1196     4221    6404   \n",
       "4             5.00  Retail  Other  22615   5410     7198    3915   \n",
       "..             ...     ...    ...    ...    ...      ...     ...   \n",
       "436         437.00   Hotel  Other  39228   1431      764    4510   \n",
       "437         438.00  Retail  Other  14531  15488    30243     437   \n",
       "438         439.00   Hotel  Other  10290   1981     2232    1038   \n",
       "439         440.00   Hotel  Other   2787   1698     2510      65   \n",
       "440            nan     NaN    NaN  13410  18618    17252    4167   \n",
       "\n",
       "     Detergents_Paper  Delicatessen  \n",
       "0                2674          1338  \n",
       "1                3293          1776  \n",
       "2                3516          7844  \n",
       "3                 507          1788  \n",
       "4                1777          5185  \n",
       "..                ...           ...  \n",
       "436                93          2346  \n",
       "437             14841          1867  \n",
       "438               168          2125  \n",
       "439               477            52  \n",
       "440              6809          9620  \n",
       "\n",
       "[441 rows x 9 columns]"
      ]
     },
     "execution_count": 17,
     "metadata": {},
     "output_type": "execute_result"
    }
   ],
   "source": [
    "df"
   ]
  },
  {
   "cell_type": "markdown",
   "metadata": {},
   "source": [
    "A wholesale distributor operating in different regions of Portugal has information on annual spending of several items in their stores across different regions and channels. The data consists of 440 large retailers’ annual spending on 6 different varieties of products in 3 different regions (Lisbon, Oporto, Other) and across different sales channel (Hotel, Retail)."
   ]
  },
  {
   "cell_type": "markdown",
   "metadata": {},
   "source": [
    "1.1 Use methods of descriptive statistics to summarize data. Which Region and which Channel spent the most? Which Region and which Channel spent the least?"
   ]
  },
  {
   "cell_type": "code",
   "execution_count": 4,
   "metadata": {},
   "outputs": [
    {
     "name": "stdout",
     "output_type": "stream",
     "text": [
      "<class 'pandas.core.frame.DataFrame'>\n",
      "RangeIndex: 440 entries, 0 to 439\n",
      "Data columns (total 9 columns):\n",
      "Buyer/Spender       440 non-null int64\n",
      "Channel             440 non-null object\n",
      "Region              440 non-null object\n",
      "Fresh               440 non-null int64\n",
      "Milk                440 non-null int64\n",
      "Grocery             440 non-null int64\n",
      "Frozen              440 non-null int64\n",
      "Detergents_Paper    440 non-null int64\n",
      "Delicatessen        440 non-null int64\n",
      "dtypes: int64(7), object(2)\n",
      "memory usage: 31.1+ KB\n"
     ]
    }
   ],
   "source": [
    "\n",
    "# To summarize our data we use info function.\n",
    "df.info()"
   ]
  },
  {
   "cell_type": "code",
   "execution_count": 52,
   "metadata": {},
   "outputs": [
    {
     "data": {
      "text/plain": [
       "Buyer/Spender        1\n",
       "Channel              1\n",
       "Region               1\n",
       "Fresh                0\n",
       "Milk                 0\n",
       "Grocery              0\n",
       "Frozen               0\n",
       "Detergents_Paper     0\n",
       "Delicatessen         0\n",
       "Total Expenditure    0\n",
       "dtype: int64"
      ]
     },
     "execution_count": 52,
     "metadata": {},
     "output_type": "execute_result"
    }
   ],
   "source": [
    "# by using isnull().sum() we came to infer that our data do not have any nul values.\n",
    "df.isnull().sum()"
   ]
  },
  {
   "cell_type": "markdown",
   "metadata": {},
   "source": [
    "The given data has 440 rows and 9 columns with no null values. "
   ]
  },
  {
   "cell_type": "markdown",
   "metadata": {},
   "source": [
    "Out of 9 columns 6 are the category of products/items across 3 regions (Lisbon, Oporto, Other) and   across 2 different sales channel (Hotel, Retail ).\n",
    "Where Fresh,Milk,Grocery,Frozen,Detergents_Paper,Delicatessen  are continuous in nature  and Channel ,Region are nominal in nature. Among Channels, the most frequently occurring, 298 0ut of 440 is  ‘Hotel’ and a\n"
   ]
  },
  {
   "cell_type": "code",
   "execution_count": 25,
   "metadata": {},
   "outputs": [
    {
     "data": {
      "text/html": [
       "<div>\n",
       "<style scoped>\n",
       "    .dataframe tbody tr th:only-of-type {\n",
       "        vertical-align: middle;\n",
       "    }\n",
       "\n",
       "    .dataframe tbody tr th {\n",
       "        vertical-align: top;\n",
       "    }\n",
       "\n",
       "    .dataframe thead th {\n",
       "        text-align: right;\n",
       "    }\n",
       "</style>\n",
       "<table border=\"1\" class=\"dataframe\">\n",
       "  <thead>\n",
       "    <tr style=\"text-align: right;\">\n",
       "      <th></th>\n",
       "      <th>Buyer/Spender</th>\n",
       "      <th>Channel</th>\n",
       "      <th>Region</th>\n",
       "      <th>Fresh</th>\n",
       "      <th>Milk</th>\n",
       "      <th>Grocery</th>\n",
       "      <th>Frozen</th>\n",
       "      <th>Detergents_Paper</th>\n",
       "      <th>Delicatessen</th>\n",
       "      <th>Total Expenditure</th>\n",
       "    </tr>\n",
       "  </thead>\n",
       "  <tbody>\n",
       "    <tr>\n",
       "      <td>0</td>\n",
       "      <td>1.00</td>\n",
       "      <td>Retail</td>\n",
       "      <td>Other</td>\n",
       "      <td>12669</td>\n",
       "      <td>9656</td>\n",
       "      <td>7561</td>\n",
       "      <td>214</td>\n",
       "      <td>2674</td>\n",
       "      <td>1338</td>\n",
       "      <td>34112</td>\n",
       "    </tr>\n",
       "    <tr>\n",
       "      <td>1</td>\n",
       "      <td>2.00</td>\n",
       "      <td>Retail</td>\n",
       "      <td>Other</td>\n",
       "      <td>7057</td>\n",
       "      <td>9810</td>\n",
       "      <td>9568</td>\n",
       "      <td>1762</td>\n",
       "      <td>3293</td>\n",
       "      <td>1776</td>\n",
       "      <td>33266</td>\n",
       "    </tr>\n",
       "    <tr>\n",
       "      <td>2</td>\n",
       "      <td>3.00</td>\n",
       "      <td>Retail</td>\n",
       "      <td>Other</td>\n",
       "      <td>6353</td>\n",
       "      <td>8808</td>\n",
       "      <td>7684</td>\n",
       "      <td>2405</td>\n",
       "      <td>3516</td>\n",
       "      <td>7844</td>\n",
       "      <td>36610</td>\n",
       "    </tr>\n",
       "    <tr>\n",
       "      <td>3</td>\n",
       "      <td>4.00</td>\n",
       "      <td>Hotel</td>\n",
       "      <td>Other</td>\n",
       "      <td>13265</td>\n",
       "      <td>1196</td>\n",
       "      <td>4221</td>\n",
       "      <td>6404</td>\n",
       "      <td>507</td>\n",
       "      <td>1788</td>\n",
       "      <td>27381</td>\n",
       "    </tr>\n",
       "    <tr>\n",
       "      <td>4</td>\n",
       "      <td>5.00</td>\n",
       "      <td>Retail</td>\n",
       "      <td>Other</td>\n",
       "      <td>22615</td>\n",
       "      <td>5410</td>\n",
       "      <td>7198</td>\n",
       "      <td>3915</td>\n",
       "      <td>1777</td>\n",
       "      <td>5185</td>\n",
       "      <td>46100</td>\n",
       "    </tr>\n",
       "    <tr>\n",
       "      <td>...</td>\n",
       "      <td>...</td>\n",
       "      <td>...</td>\n",
       "      <td>...</td>\n",
       "      <td>...</td>\n",
       "      <td>...</td>\n",
       "      <td>...</td>\n",
       "      <td>...</td>\n",
       "      <td>...</td>\n",
       "      <td>...</td>\n",
       "      <td>...</td>\n",
       "    </tr>\n",
       "    <tr>\n",
       "      <td>436</td>\n",
       "      <td>437.00</td>\n",
       "      <td>Hotel</td>\n",
       "      <td>Other</td>\n",
       "      <td>39228</td>\n",
       "      <td>1431</td>\n",
       "      <td>764</td>\n",
       "      <td>4510</td>\n",
       "      <td>93</td>\n",
       "      <td>2346</td>\n",
       "      <td>48372</td>\n",
       "    </tr>\n",
       "    <tr>\n",
       "      <td>437</td>\n",
       "      <td>438.00</td>\n",
       "      <td>Retail</td>\n",
       "      <td>Other</td>\n",
       "      <td>14531</td>\n",
       "      <td>15488</td>\n",
       "      <td>30243</td>\n",
       "      <td>437</td>\n",
       "      <td>14841</td>\n",
       "      <td>1867</td>\n",
       "      <td>77407</td>\n",
       "    </tr>\n",
       "    <tr>\n",
       "      <td>438</td>\n",
       "      <td>439.00</td>\n",
       "      <td>Hotel</td>\n",
       "      <td>Other</td>\n",
       "      <td>10290</td>\n",
       "      <td>1981</td>\n",
       "      <td>2232</td>\n",
       "      <td>1038</td>\n",
       "      <td>168</td>\n",
       "      <td>2125</td>\n",
       "      <td>17834</td>\n",
       "    </tr>\n",
       "    <tr>\n",
       "      <td>439</td>\n",
       "      <td>440.00</td>\n",
       "      <td>Hotel</td>\n",
       "      <td>Other</td>\n",
       "      <td>2787</td>\n",
       "      <td>1698</td>\n",
       "      <td>2510</td>\n",
       "      <td>65</td>\n",
       "      <td>477</td>\n",
       "      <td>52</td>\n",
       "      <td>7589</td>\n",
       "    </tr>\n",
       "    <tr>\n",
       "      <td>440</td>\n",
       "      <td>nan</td>\n",
       "      <td>NaN</td>\n",
       "      <td>NaN</td>\n",
       "      <td>13410</td>\n",
       "      <td>18618</td>\n",
       "      <td>17252</td>\n",
       "      <td>4167</td>\n",
       "      <td>6809</td>\n",
       "      <td>9620</td>\n",
       "      <td>69876</td>\n",
       "    </tr>\n",
       "  </tbody>\n",
       "</table>\n",
       "<p>441 rows × 10 columns</p>\n",
       "</div>"
      ],
      "text/plain": [
       "     Buyer/Spender Channel Region  Fresh   Milk  Grocery  Frozen  \\\n",
       "0             1.00  Retail  Other  12669   9656     7561     214   \n",
       "1             2.00  Retail  Other   7057   9810     9568    1762   \n",
       "2             3.00  Retail  Other   6353   8808     7684    2405   \n",
       "3             4.00   Hotel  Other  13265   1196     4221    6404   \n",
       "4             5.00  Retail  Other  22615   5410     7198    3915   \n",
       "..             ...     ...    ...    ...    ...      ...     ...   \n",
       "436         437.00   Hotel  Other  39228   1431      764    4510   \n",
       "437         438.00  Retail  Other  14531  15488    30243     437   \n",
       "438         439.00   Hotel  Other  10290   1981     2232    1038   \n",
       "439         440.00   Hotel  Other   2787   1698     2510      65   \n",
       "440            nan     NaN    NaN  13410  18618    17252    4167   \n",
       "\n",
       "     Detergents_Paper  Delicatessen  Total Expenditure  \n",
       "0                2674          1338              34112  \n",
       "1                3293          1776              33266  \n",
       "2                3516          7844              36610  \n",
       "3                 507          1788              27381  \n",
       "4                1777          5185              46100  \n",
       "..                ...           ...                ...  \n",
       "436                93          2346              48372  \n",
       "437             14841          1867              77407  \n",
       "438               168          2125              17834  \n",
       "439               477            52               7589  \n",
       "440              6809          9620              69876  \n",
       "\n",
       "[441 rows x 10 columns]"
      ]
     },
     "execution_count": 25,
     "metadata": {},
     "output_type": "execute_result"
    }
   ],
   "source": [
    "df['Total Expenditure'] = df['Fresh']+ df['Milk']+df['Grocery']+df['Frozen']+df['Detergents_Paper']+df['Delicatessen']\n",
    "df\n"
   ]
  },
  {
   "cell_type": "code",
   "execution_count": 63,
   "metadata": {},
   "outputs": [
    {
     "name": "stdout",
     "output_type": "stream",
     "text": [
      "Region\n",
      "Lisbon     2386813\n",
      "Oporto     1555088\n",
      "Other     10677599\n",
      "Name: Total Expenditure, dtype: int64\n",
      "\n",
      "Channel\n",
      "Hotel     7999569\n",
      "Retail    6619931\n",
      "Name: Total Expenditure, dtype: int64\n"
     ]
    }
   ],
   "source": [
    "df_region = df.groupby('Region')['Total Expenditure'].sum()\n",
    "print(df_region)\n",
    "print()\n",
    "df_channel = df.groupby('Channel')['Total Expenditure'].sum()\n",
    "print(df_channel)"
   ]
  },
  {
   "cell_type": "code",
   "execution_count": 31,
   "metadata": {},
   "outputs": [
    {
     "data": {
      "image/png": "[encoded data removed]",
      "text/plain": [
       "<Figure size 432x288 with 1 Axes>"
      ]
     },
     "metadata": {
      "needs_background": "light"
     },
     "output_type": "display_data"
    }
   ],
   "source": [
    "df_region.plot(kind = 'bar')\n",
    "plt.show()"
   ]
  },
  {
   "cell_type": "code",
   "execution_count": 32,
   "metadata": {},
   "outputs": [
    {
     "data": {
      "image/png": "[encoded data removed]",
      "text/plain": [
       "<Figure size 432x288 with 1 Axes>"
      ]
     },
     "metadata": {
      "needs_background": "light"
     },
     "output_type": "display_data"
    }
   ],
   "source": [
    "df_channel.plot(kind = 'bar')\n",
    "plt.show()"
   ]
  },
  {
   "cell_type": "markdown",
   "metadata": {},
   "source": [
    "By creating a new column of ‘Total Expenditure’ and plotting bar graph with Region and Channel we can identify region as well as channel with maximum spend and minimum spend. Below is the bar graph representation \n",
    "Hotel spend amount is highest with 7999569 PTE (Portuguese Escudo i.e Portuguese currency) spend amount and Retail spend amount is the least with 6619931 PTE spend amount based on Channel.\n",
    "Other region spend amount is highest with the highest spend amount of 10677599 PTE and Oporto is the least spending region with lowest spend amount of 1555088 PTE.\n"
   ]
  },
  {
   "cell_type": "markdown",
   "metadata": {},
   "source": [
    "1.2. There are 6 different varieties of items that are considered. Describe and comment/explain all the varieties across Region and Channel? Provide a detailed justification for your answer.\n",
    "\n"
   ]
  },
  {
   "cell_type": "code",
   "execution_count": 53,
   "metadata": {},
   "outputs": [
    {
     "data": {
      "text/html": [
       "<div>\n",
       "<style scoped>\n",
       "    .dataframe tbody tr th:only-of-type {\n",
       "        vertical-align: middle;\n",
       "    }\n",
       "\n",
       "    .dataframe tbody tr th {\n",
       "        vertical-align: top;\n",
       "    }\n",
       "\n",
       "    .dataframe thead th {\n",
       "        text-align: right;\n",
       "    }\n",
       "</style>\n",
       "<table border=\"1\" class=\"dataframe\">\n",
       "  <thead>\n",
       "    <tr style=\"text-align: right;\">\n",
       "      <th></th>\n",
       "      <th>Buyer/Spender</th>\n",
       "      <th>Channel</th>\n",
       "      <th>Region</th>\n",
       "      <th>Fresh</th>\n",
       "      <th>Milk</th>\n",
       "      <th>Grocery</th>\n",
       "      <th>Frozen</th>\n",
       "      <th>Detergents_Paper</th>\n",
       "      <th>Delicatessen</th>\n",
       "      <th>Total Expenditure</th>\n",
       "    </tr>\n",
       "  </thead>\n",
       "  <tbody>\n",
       "    <tr>\n",
       "      <td>count</td>\n",
       "      <td>440.00</td>\n",
       "      <td>440</td>\n",
       "      <td>440</td>\n",
       "      <td>441.00</td>\n",
       "      <td>441.00</td>\n",
       "      <td>441.00</td>\n",
       "      <td>441.00</td>\n",
       "      <td>441.00</td>\n",
       "      <td>441.00</td>\n",
       "      <td>441.00</td>\n",
       "    </tr>\n",
       "    <tr>\n",
       "      <td>unique</td>\n",
       "      <td>nan</td>\n",
       "      <td>2</td>\n",
       "      <td>3</td>\n",
       "      <td>nan</td>\n",
       "      <td>nan</td>\n",
       "      <td>nan</td>\n",
       "      <td>nan</td>\n",
       "      <td>nan</td>\n",
       "      <td>nan</td>\n",
       "      <td>nan</td>\n",
       "    </tr>\n",
       "    <tr>\n",
       "      <td>top</td>\n",
       "      <td>nan</td>\n",
       "      <td>Hotel</td>\n",
       "      <td>Other</td>\n",
       "      <td>nan</td>\n",
       "      <td>nan</td>\n",
       "      <td>nan</td>\n",
       "      <td>nan</td>\n",
       "      <td>nan</td>\n",
       "      <td>nan</td>\n",
       "      <td>nan</td>\n",
       "    </tr>\n",
       "    <tr>\n",
       "      <td>freq</td>\n",
       "      <td>nan</td>\n",
       "      <td>298</td>\n",
       "      <td>316</td>\n",
       "      <td>nan</td>\n",
       "      <td>nan</td>\n",
       "      <td>nan</td>\n",
       "      <td>nan</td>\n",
       "      <td>nan</td>\n",
       "      <td>nan</td>\n",
       "      <td>nan</td>\n",
       "    </tr>\n",
       "    <tr>\n",
       "      <td>mean</td>\n",
       "      <td>220.50</td>\n",
       "      <td>NaN</td>\n",
       "      <td>NaN</td>\n",
       "      <td>12003.49</td>\n",
       "      <td>5825.34</td>\n",
       "      <td>7972.37</td>\n",
       "      <td>3074.41</td>\n",
       "      <td>2890.40</td>\n",
       "      <td>1543.23</td>\n",
       "      <td>33309.24</td>\n",
       "    </tr>\n",
       "    <tr>\n",
       "      <td>std</td>\n",
       "      <td>127.16</td>\n",
       "      <td>NaN</td>\n",
       "      <td>NaN</td>\n",
       "      <td>12633.13</td>\n",
       "      <td>7397.23</td>\n",
       "      <td>9502.68</td>\n",
       "      <td>4849.43</td>\n",
       "      <td>4766.10</td>\n",
       "      <td>2843.15</td>\n",
       "      <td>26384.12</td>\n",
       "    </tr>\n",
       "    <tr>\n",
       "      <td>min</td>\n",
       "      <td>1.00</td>\n",
       "      <td>NaN</td>\n",
       "      <td>NaN</td>\n",
       "      <td>3.00</td>\n",
       "      <td>55.00</td>\n",
       "      <td>3.00</td>\n",
       "      <td>25.00</td>\n",
       "      <td>3.00</td>\n",
       "      <td>3.00</td>\n",
       "      <td>904.00</td>\n",
       "    </tr>\n",
       "    <tr>\n",
       "      <td>25%</td>\n",
       "      <td>110.75</td>\n",
       "      <td>NaN</td>\n",
       "      <td>NaN</td>\n",
       "      <td>3136.00</td>\n",
       "      <td>1534.00</td>\n",
       "      <td>2155.00</td>\n",
       "      <td>744.00</td>\n",
       "      <td>257.00</td>\n",
       "      <td>409.00</td>\n",
       "      <td>17460.00</td>\n",
       "    </tr>\n",
       "    <tr>\n",
       "      <td>50%</td>\n",
       "      <td>220.50</td>\n",
       "      <td>NaN</td>\n",
       "      <td>NaN</td>\n",
       "      <td>8533.00</td>\n",
       "      <td>3634.00</td>\n",
       "      <td>4757.00</td>\n",
       "      <td>1535.00</td>\n",
       "      <td>820.00</td>\n",
       "      <td>967.00</td>\n",
       "      <td>27559.00</td>\n",
       "    </tr>\n",
       "    <tr>\n",
       "      <td>75%</td>\n",
       "      <td>330.25</td>\n",
       "      <td>NaN</td>\n",
       "      <td>NaN</td>\n",
       "      <td>16933.00</td>\n",
       "      <td>7209.00</td>\n",
       "      <td>10685.00</td>\n",
       "      <td>3570.00</td>\n",
       "      <td>3961.00</td>\n",
       "      <td>1824.00</td>\n",
       "      <td>41795.00</td>\n",
       "    </tr>\n",
       "    <tr>\n",
       "      <td>max</td>\n",
       "      <td>440.00</td>\n",
       "      <td>NaN</td>\n",
       "      <td>NaN</td>\n",
       "      <td>112151.00</td>\n",
       "      <td>73498.00</td>\n",
       "      <td>92780.00</td>\n",
       "      <td>60869.00</td>\n",
       "      <td>40827.00</td>\n",
       "      <td>47943.00</td>\n",
       "      <td>199891.00</td>\n",
       "    </tr>\n",
       "  </tbody>\n",
       "</table>\n",
       "</div>"
      ],
      "text/plain": [
       "        Buyer/Spender Channel Region     Fresh     Milk  Grocery   Frozen  \\\n",
       "count          440.00     440    440    441.00   441.00   441.00   441.00   \n",
       "unique            nan       2      3       nan      nan      nan      nan   \n",
       "top               nan   Hotel  Other       nan      nan      nan      nan   \n",
       "freq              nan     298    316       nan      nan      nan      nan   \n",
       "mean           220.50     NaN    NaN  12003.49  5825.34  7972.37  3074.41   \n",
       "std            127.16     NaN    NaN  12633.13  7397.23  9502.68  4849.43   \n",
       "min              1.00     NaN    NaN      3.00    55.00     3.00    25.00   \n",
       "25%            110.75     NaN    NaN   3136.00  1534.00  2155.00   744.00   \n",
       "50%            220.50     NaN    NaN   8533.00  3634.00  4757.00  1535.00   \n",
       "75%            330.25     NaN    NaN  16933.00  7209.00 10685.00  3570.00   \n",
       "max            440.00     NaN    NaN 112151.00 73498.00 92780.00 60869.00   \n",
       "\n",
       "        Detergents_Paper  Delicatessen  Total Expenditure  \n",
       "count             441.00        441.00             441.00  \n",
       "unique               nan           nan                nan  \n",
       "top                  nan           nan                nan  \n",
       "freq                 nan           nan                nan  \n",
       "mean             2890.40       1543.23           33309.24  \n",
       "std              4766.10       2843.15           26384.12  \n",
       "min                 3.00          3.00             904.00  \n",
       "25%               257.00        409.00           17460.00  \n",
       "50%               820.00        967.00           27559.00  \n",
       "75%              3961.00       1824.00           41795.00  \n",
       "max             40827.00      47943.00          199891.00  "
      ]
     },
     "execution_count": 53,
     "metadata": {},
     "output_type": "execute_result"
    }
   ],
   "source": [
    "#we use describe function to infer behavior in different items\n",
    "df.describe(include='all')"
   ]
  },
  {
   "cell_type": "markdown",
   "metadata": {},
   "source": [
    "\n",
    "\n",
    "Fresh has a mean of 12000.3, standard deviation of 12633.13, with min value of 3 and max value of 112151.The quartile ranges are Q1(25%) is 3136.00, Q2(50%) is 8533 and  Q3(75%) is 16933.00 with IQR = Q3-Q1 = 16933.8-3136.00 = 13,797.8\n",
    "\n",
    "Milk has a mean of 5825.34, standard deviation of 7397.23, with min value of 55 and max value of 73498.The quartile ranges are Q1(25%) is 1534.00, Q2(50%) 3634.00 and Q3(75%) is 7209.00 with IQR = Q3-Q1 = 7209.00-1534.00 = 5,675.00\n",
    "\n",
    "Grocery has a mean of 7972.37, standard deviation of 9502.68, with min value of 3 and max value of 92780.The quartile ranges are Q1(25%) is 2155.00, Q2(50%) 4757.00 and Q3(75%) is 10685.00 with IQR = Q3-Q1 = 10685.00-2155.00 = 8,530.00\n",
    "\n",
    "Frozen has a mean of 3074.41, standard deviation of 4849.43, with min value of 25 and max value of 60869.The quartile ranges are Q1(25%) is 744.00, Q2(50%) 1535.00 and Q3(75%) is 3570.00 with IQR = Q3-Q1 = 3570.00-744.00 = 2,826.00\n",
    "\n",
    "Detergents_Paper has a mean of 2890.40, standard deviation of 4766.10, with min value of 3 and max value of 40827.The quartile ranges are Q1(25%) is 257.00, Q2(50%) is 820.00 and Q3(75%) is 3961.00 with IQR = Q3-Q1 = 3961.00-257.00 = 3,704.00\n",
    "\n",
    "\n",
    "Delicatessen has a mean of 1543.23\t, standard deviation of 2843.15, with min value of 3 and max value of 47943.The quartile ranges are Q1(25%) is 409.00, Q2(50%) is 967.00 and Q3(75%) is 1824.00 with IQR = Q3-Q1 = 1824.00-409.00 = 1,415.00\n",
    "\n"
   ]
  },
  {
   "cell_type": "code",
   "execution_count": 46,
   "metadata": {},
   "outputs": [
    {
     "data": {
      "text/html": [
       "<div>\n",
       "<style scoped>\n",
       "    .dataframe tbody tr th:only-of-type {\n",
       "        vertical-align: middle;\n",
       "    }\n",
       "\n",
       "    .dataframe tbody tr th {\n",
       "        vertical-align: top;\n",
       "    }\n",
       "\n",
       "    .dataframe thead th {\n",
       "        text-align: right;\n",
       "    }\n",
       "</style>\n",
       "<table border=\"1\" class=\"dataframe\">\n",
       "  <thead>\n",
       "    <tr style=\"text-align: right;\">\n",
       "      <th></th>\n",
       "      <th>Fresh</th>\n",
       "      <th>Milk</th>\n",
       "      <th>Grocery</th>\n",
       "      <th>Frozen</th>\n",
       "      <th>Detergents_Paper</th>\n",
       "      <th>Delicatessen</th>\n",
       "    </tr>\n",
       "    <tr>\n",
       "      <th>Channel</th>\n",
       "      <th></th>\n",
       "      <th></th>\n",
       "      <th></th>\n",
       "      <th></th>\n",
       "      <th></th>\n",
       "      <th></th>\n",
       "    </tr>\n",
       "  </thead>\n",
       "  <tbody>\n",
       "    <tr>\n",
       "      <td>Hotel</td>\n",
       "      <td>4015717</td>\n",
       "      <td>1028614</td>\n",
       "      <td>1180717</td>\n",
       "      <td>1116979</td>\n",
       "      <td>235587</td>\n",
       "      <td>421955</td>\n",
       "    </tr>\n",
       "    <tr>\n",
       "      <td>Retail</td>\n",
       "      <td>1264414</td>\n",
       "      <td>1521743</td>\n",
       "      <td>2317845</td>\n",
       "      <td>234671</td>\n",
       "      <td>1032270</td>\n",
       "      <td>248988</td>\n",
       "    </tr>\n",
       "  </tbody>\n",
       "</table>\n",
       "</div>"
      ],
      "text/plain": [
       "           Fresh     Milk  Grocery   Frozen  Detergents_Paper  Delicatessen\n",
       "Channel                                                                    \n",
       "Hotel    4015717  1028614  1180717  1116979            235587        421955\n",
       "Retail   1264414  1521743  2317845   234671           1032270        248988"
      ]
     },
     "execution_count": 46,
     "metadata": {},
     "output_type": "execute_result"
    }
   ],
   "source": [
    "df.groupby('Channel')['Fresh', 'Milk', 'Grocery', 'Frozen', 'Detergents_Paper', 'Delicatessen'].sum()"
   ]
  },
  {
   "cell_type": "code",
   "execution_count": 48,
   "metadata": {},
   "outputs": [
    {
     "data": {
      "text/html": [
       "<div>\n",
       "<style scoped>\n",
       "    .dataframe tbody tr th:only-of-type {\n",
       "        vertical-align: middle;\n",
       "    }\n",
       "\n",
       "    .dataframe tbody tr th {\n",
       "        vertical-align: top;\n",
       "    }\n",
       "\n",
       "    .dataframe thead th {\n",
       "        text-align: right;\n",
       "    }\n",
       "</style>\n",
       "<table border=\"1\" class=\"dataframe\">\n",
       "  <thead>\n",
       "    <tr style=\"text-align: right;\">\n",
       "      <th></th>\n",
       "      <th>Fresh</th>\n",
       "      <th>Milk</th>\n",
       "      <th>Grocery</th>\n",
       "      <th>Frozen</th>\n",
       "      <th>Detergents_Paper</th>\n",
       "      <th>Delicatessen</th>\n",
       "    </tr>\n",
       "    <tr>\n",
       "      <th>Region</th>\n",
       "      <th></th>\n",
       "      <th></th>\n",
       "      <th></th>\n",
       "      <th></th>\n",
       "      <th></th>\n",
       "      <th></th>\n",
       "    </tr>\n",
       "  </thead>\n",
       "  <tbody>\n",
       "    <tr>\n",
       "      <td>Lisbon</td>\n",
       "      <td>854833</td>\n",
       "      <td>422454</td>\n",
       "      <td>570037</td>\n",
       "      <td>231026</td>\n",
       "      <td>204136</td>\n",
       "      <td>104327</td>\n",
       "    </tr>\n",
       "    <tr>\n",
       "      <td>Oporto</td>\n",
       "      <td>464721</td>\n",
       "      <td>239144</td>\n",
       "      <td>433274</td>\n",
       "      <td>190132</td>\n",
       "      <td>173311</td>\n",
       "      <td>54506</td>\n",
       "    </tr>\n",
       "    <tr>\n",
       "      <td>Other</td>\n",
       "      <td>3960577</td>\n",
       "      <td>1888759</td>\n",
       "      <td>2495251</td>\n",
       "      <td>930492</td>\n",
       "      <td>890410</td>\n",
       "      <td>512110</td>\n",
       "    </tr>\n",
       "  </tbody>\n",
       "</table>\n",
       "</div>"
      ],
      "text/plain": [
       "          Fresh     Milk  Grocery  Frozen  Detergents_Paper  Delicatessen\n",
       "Region                                                                   \n",
       "Lisbon   854833   422454   570037  231026            204136        104327\n",
       "Oporto   464721   239144   433274  190132            173311         54506\n",
       "Other   3960577  1888759  2495251  930492            890410        512110"
      ]
     },
     "execution_count": 48,
     "metadata": {},
     "output_type": "execute_result"
    }
   ],
   "source": [
    "df.groupby('Region')['Fresh', 'Milk', 'Grocery', 'Frozen', 'Detergents_Paper', 'Delicatessen'].sum()"
   ]
  },
  {
   "cell_type": "code",
   "execution_count": 50,
   "metadata": {},
   "outputs": [
    {
     "data": {
      "text/plain": [
       "<matplotlib.axes._subplots.AxesSubplot at 0x28c8b643088>"
      ]
     },
     "execution_count": 50,
     "metadata": {},
     "output_type": "execute_result"
    },
    {
     "data": {
      "image/png": "[encoded data removed]",
      "text/plain": [
       "<Figure size 432x288 with 1 Axes>"
      ]
     },
     "metadata": {
      "needs_background": "light"
     },
     "output_type": "display_data"
    }
   ],
   "source": [
    "df.groupby('Channel')['Fresh', 'Milk', 'Grocery', 'Frozen', 'Detergents_Paper', 'Delicatessen'].sum().plot(kind='bar')"
   ]
  },
  {
   "cell_type": "code",
   "execution_count": 54,
   "metadata": {},
   "outputs": [
    {
     "data": {
      "text/plain": [
       "<matplotlib.axes._subplots.AxesSubplot at 0x28c9261f3c8>"
      ]
     },
     "execution_count": 54,
     "metadata": {},
     "output_type": "execute_result"
    },
    {
     "data": {
      "image/png": "[encoded data removed]",
      "text/plain": [
       "<Figure size 432x288 with 1 Axes>"
      ]
     },
     "metadata": {
      "needs_background": "light"
     },
     "output_type": "display_data"
    }
   ],
   "source": [
    "df.groupby('Region')['Fresh', 'Milk', 'Grocery', 'Frozen', 'Detergents_Paper', 'Delicatessen'].sum().plot(kind='bar')"
   ]
  },
  {
   "cell_type": "markdown",
   "metadata": {},
   "source": [
    "From the above bar plots we could infer that category like Fresh, Frozen, Grocery have higher spend in Hotel and Grocery, Milk, Fresh , Detergents Paper have higher spend in the Retail channel across regions. On the other hand, Fresh and Grocery have higher consumption in the Hotel channel versus Retail, across all regions."
   ]
  },
  {
   "cell_type": "markdown",
   "metadata": {},
   "source": [
    "1.3 On the basis of a descriptive measure of variability, which item shows the most inconsistent behaviour? Which items show the least inconsistent behaviour?"
   ]
  },
  {
   "cell_type": "code",
   "execution_count": 37,
   "metadata": {},
   "outputs": [
    {
     "data": {
      "text/html": [
       "<div>\n",
       "<style scoped>\n",
       "    .dataframe tbody tr th:only-of-type {\n",
       "        vertical-align: middle;\n",
       "    }\n",
       "\n",
       "    .dataframe tbody tr th {\n",
       "        vertical-align: top;\n",
       "    }\n",
       "\n",
       "    .dataframe thead th {\n",
       "        text-align: right;\n",
       "    }\n",
       "</style>\n",
       "<table border=\"1\" class=\"dataframe\">\n",
       "  <thead>\n",
       "    <tr style=\"text-align: right;\">\n",
       "      <th></th>\n",
       "      <th>Skewness</th>\n",
       "    </tr>\n",
       "  </thead>\n",
       "  <tbody>\n",
       "    <tr>\n",
       "      <td>Fresh</td>\n",
       "      <td>2.55</td>\n",
       "    </tr>\n",
       "    <tr>\n",
       "      <td>Milk</td>\n",
       "      <td>4.04</td>\n",
       "    </tr>\n",
       "    <tr>\n",
       "      <td>Grocery</td>\n",
       "      <td>3.58</td>\n",
       "    </tr>\n",
       "    <tr>\n",
       "      <td>Frozen</td>\n",
       "      <td>5.89</td>\n",
       "    </tr>\n",
       "    <tr>\n",
       "      <td>Detergents_Paper</td>\n",
       "      <td>3.62</td>\n",
       "    </tr>\n",
       "    <tr>\n",
       "      <td>Delicatessen</td>\n",
       "      <td>11.11</td>\n",
       "    </tr>\n",
       "  </tbody>\n",
       "</table>\n",
       "</div>"
      ],
      "text/plain": [
       "                  Skewness\n",
       "Fresh                 2.55\n",
       "Milk                  4.04\n",
       "Grocery               3.58\n",
       "Frozen                5.89\n",
       "Detergents_Paper      3.62\n",
       "Delicatessen         11.11"
      ]
     },
     "execution_count": 37,
     "metadata": {},
     "output_type": "execute_result"
    }
   ],
   "source": [
    "Skewness = pd.DataFrame({'Skewness' : [stats.skew(df.Fresh),stats.skew(df.Milk),stats.skew(df.Grocery),stats.skew(df.Frozen),stats.skew(df.Detergents_Paper),stats.skew(df.Delicatessen)]},\n",
    "                        index=['Fresh', 'Milk', 'Grocery',\n",
    "       'Frozen', 'Detergents_Paper', 'Delicatessen'])  # Measure the skeweness of the required columns\n",
    "Skewness"
   ]
  },
  {
   "cell_type": "markdown",
   "metadata": {},
   "source": [
    "1.3 On the basis of the descriptive measure of variability, which item shows the most inconsistent behaviour? Which items shows the least inconsistent behaviour?"
   ]
  },
  {
   "cell_type": "code",
   "execution_count": 105,
   "metadata": {},
   "outputs": [
    {
     "name": "stdout",
     "output_type": "stream",
     "text": [
      "Buyer/Spender         127.16\n",
      "Fresh               12647.33\n",
      "Milk                 7380.38\n",
      "Grocery              9503.16\n",
      "Frozen               4854.67\n",
      "Detergents_Paper     4767.85\n",
      "Delicatessen         2820.11\n",
      "Total Expenditure   26356.30\n",
      "dtype: float64\n"
     ]
    }
   ],
   "source": [
    "\n",
    "print(df.std())\n"
   ]
  },
  {
   "cell_type": "code",
   "execution_count": 38,
   "metadata": {},
   "outputs": [
    {
     "data": {
      "text/html": [
       "<div>\n",
       "<style scoped>\n",
       "    .dataframe tbody tr th:only-of-type {\n",
       "        vertical-align: middle;\n",
       "    }\n",
       "\n",
       "    .dataframe tbody tr th {\n",
       "        vertical-align: top;\n",
       "    }\n",
       "\n",
       "    .dataframe thead th {\n",
       "        text-align: right;\n",
       "    }\n",
       "</style>\n",
       "<table border=\"1\" class=\"dataframe\">\n",
       "  <thead>\n",
       "    <tr style=\"text-align: right;\">\n",
       "      <th></th>\n",
       "      <th>Buyer/Spender</th>\n",
       "      <th>Channel</th>\n",
       "      <th>Region</th>\n",
       "      <th>Fresh</th>\n",
       "      <th>Milk</th>\n",
       "      <th>Grocery</th>\n",
       "      <th>Frozen</th>\n",
       "      <th>Detergents_Paper</th>\n",
       "      <th>Delicatessen</th>\n",
       "      <th>Total Expenditure</th>\n",
       "    </tr>\n",
       "  </thead>\n",
       "  <tbody>\n",
       "    <tr>\n",
       "      <td>0</td>\n",
       "      <td>1.00</td>\n",
       "      <td>Retail</td>\n",
       "      <td>Other</td>\n",
       "      <td>12669</td>\n",
       "      <td>9656</td>\n",
       "      <td>7561</td>\n",
       "      <td>214</td>\n",
       "      <td>2674</td>\n",
       "      <td>1338</td>\n",
       "      <td>34112</td>\n",
       "    </tr>\n",
       "    <tr>\n",
       "      <td>1</td>\n",
       "      <td>2.00</td>\n",
       "      <td>Retail</td>\n",
       "      <td>Other</td>\n",
       "      <td>7057</td>\n",
       "      <td>9810</td>\n",
       "      <td>9568</td>\n",
       "      <td>1762</td>\n",
       "      <td>3293</td>\n",
       "      <td>1776</td>\n",
       "      <td>33266</td>\n",
       "    </tr>\n",
       "    <tr>\n",
       "      <td>2</td>\n",
       "      <td>3.00</td>\n",
       "      <td>Retail</td>\n",
       "      <td>Other</td>\n",
       "      <td>6353</td>\n",
       "      <td>8808</td>\n",
       "      <td>7684</td>\n",
       "      <td>2405</td>\n",
       "      <td>3516</td>\n",
       "      <td>7844</td>\n",
       "      <td>36610</td>\n",
       "    </tr>\n",
       "    <tr>\n",
       "      <td>3</td>\n",
       "      <td>4.00</td>\n",
       "      <td>Hotel</td>\n",
       "      <td>Other</td>\n",
       "      <td>13265</td>\n",
       "      <td>1196</td>\n",
       "      <td>4221</td>\n",
       "      <td>6404</td>\n",
       "      <td>507</td>\n",
       "      <td>1788</td>\n",
       "      <td>27381</td>\n",
       "    </tr>\n",
       "    <tr>\n",
       "      <td>4</td>\n",
       "      <td>5.00</td>\n",
       "      <td>Retail</td>\n",
       "      <td>Other</td>\n",
       "      <td>22615</td>\n",
       "      <td>5410</td>\n",
       "      <td>7198</td>\n",
       "      <td>3915</td>\n",
       "      <td>1777</td>\n",
       "      <td>5185</td>\n",
       "      <td>46100</td>\n",
       "    </tr>\n",
       "  </tbody>\n",
       "</table>\n",
       "</div>"
      ],
      "text/plain": [
       "   Buyer/Spender Channel Region  Fresh  Milk  Grocery  Frozen  \\\n",
       "0           1.00  Retail  Other  12669  9656     7561     214   \n",
       "1           2.00  Retail  Other   7057  9810     9568    1762   \n",
       "2           3.00  Retail  Other   6353  8808     7684    2405   \n",
       "3           4.00   Hotel  Other  13265  1196     4221    6404   \n",
       "4           5.00  Retail  Other  22615  5410     7198    3915   \n",
       "\n",
       "   Detergents_Paper  Delicatessen  Total Expenditure  \n",
       "0              2674          1338              34112  \n",
       "1              3293          1776              33266  \n",
       "2              3516          7844              36610  \n",
       "3               507          1788              27381  \n",
       "4              1777          5185              46100  "
      ]
     },
     "execution_count": 38,
     "metadata": {},
     "output_type": "execute_result"
    }
   ],
   "source": [
    "df.head()"
   ]
  },
  {
   "cell_type": "code",
   "execution_count": 29,
   "metadata": {},
   "outputs": [],
   "source": [
    "cv = lambda x: np.std(x, ddof=1) / np.mean(x) * 100 "
   ]
  },
  {
   "cell_type": "code",
   "execution_count": 30,
   "metadata": {},
   "outputs": [
    {
     "name": "stdout",
     "output_type": "stream",
     "text": [
      "105.24541211935197\n"
     ]
    }
   ],
   "source": [
    "cv_fresh=cv(df['Fresh'])\n",
    "print (cv_fresh)"
   ]
  },
  {
   "cell_type": "code",
   "execution_count": 33,
   "metadata": {},
   "outputs": [
    {
     "name": "stdout",
     "output_type": "stream",
     "text": [
      "126.98359099878576\n"
     ]
    }
   ],
   "source": [
    "cv_milk=cv(df['Milk'])\n",
    "print (cv_milk)"
   ]
  },
  {
   "cell_type": "code",
   "execution_count": 37,
   "metadata": {},
   "outputs": [
    {
     "name": "stdout",
     "output_type": "stream",
     "text": [
      "119.19526230196634\n"
     ]
    }
   ],
   "source": [
    "cv_grocery=cv(df['Grocery'])\n",
    "print (cv_grocery)"
   ]
  },
  {
   "cell_type": "code",
   "execution_count": 40,
   "metadata": {},
   "outputs": [
    {
     "name": "stdout",
     "output_type": "stream",
     "text": [
      "157.73517714274698\n"
     ]
    }
   ],
   "source": [
    "cv_frozen=cv(df['Frozen'])\n",
    "print (cv_frozen)"
   ]
  },
  {
   "cell_type": "code",
   "execution_count": 42,
   "metadata": {},
   "outputs": [
    {
     "name": "stdout",
     "output_type": "stream",
     "text": [
      "164.89433004536804\n"
     ]
    }
   ],
   "source": [
    "cv_detergent_paper=cv(df['Detergents_Paper'])\n",
    "print (cv_detergent_paper)"
   ]
  },
  {
   "cell_type": "code",
   "execution_count": 44,
   "metadata": {},
   "outputs": [
    {
     "name": "stdout",
     "output_type": "stream",
     "text": [
      "184.23430105786645\n"
     ]
    }
   ],
   "source": [
    "cv_delicatessen=cv(df['Delicatessen'])\n",
    "print (cv_delicatessen)"
   ]
  },
  {
   "cell_type": "markdown",
   "metadata": {},
   "source": [
    "Coefficient of Variation for Fresh is 1.0524541211935197\n",
    "\n",
    "Coefficient of Variation for Milk is 1.2698359099878576\n",
    "\n",
    "Coefficient of Variation for Grocery is 1.1919526230196634\n",
    "\n",
    "Coefficient of Variation for Frozen is 1.5773517714274698\n",
    "\n",
    "Coefficient of Variation for Detergents_Paper is 1.6489433004536804\n",
    "\n",
    "Coefficient of Variation for Delicatessen is 1.8423430105786645\n",
    "\n",
    "Using Coefficient of Variation we observe that the least value is of “Fresh” (1.05) and highest value is of “Delicatessen” (1.84).So by obserbing the values of Coefficient of Variation we can say that the most inconsistent behavior is shown by  Delicatessen and the least inconsistent behavior is shown by Fresh.\n",
    "\n",
    "\n",
    "\n"
   ]
  },
  {
   "cell_type": "markdown",
   "metadata": {},
   "source": [
    "1.4 Are there any outliers in the data? Back up your answer with a suitable plot/technique with the help of detailed comments."
   ]
  },
  {
   "cell_type": "code",
   "execution_count": 36,
   "metadata": {},
   "outputs": [
    {
     "data": {
      "image/png": "[encoded data removed]",
      "text/plain": [
       "<Figure size 432x288 with 1 Axes>"
      ]
     },
     "metadata": {
      "needs_background": "light"
     },
     "output_type": "display_data"
    }
   ],
   "source": [
    "sns.boxplot(x =df['Fresh'])\n",
    "figsize=(40,35)"
   ]
  },
  {
   "cell_type": "code",
   "execution_count": null,
   "metadata": {},
   "outputs": [],
   "source": []
  },
  {
   "cell_type": "code",
   "execution_count": 99,
   "metadata": {},
   "outputs": [
    {
     "data": {
      "text/plain": [
       "<matplotlib.axes._subplots.AxesSubplot at 0x24425e0a208>"
      ]
     },
     "execution_count": 99,
     "metadata": {},
     "output_type": "execute_result"
    },
    {
     "data": {
      "image/png": "[encoded data removed]",
      "text/plain": [
       "<Figure size 432x288 with 1 Axes>"
      ]
     },
     "metadata": {
      "needs_background": "light"
     },
     "output_type": "display_data"
    }
   ],
   "source": [
    "sns.boxplot(x =df['Milk'])"
   ]
  },
  {
   "cell_type": "code",
   "execution_count": 100,
   "metadata": {},
   "outputs": [
    {
     "data": {
      "text/plain": [
       "<matplotlib.axes._subplots.AxesSubplot at 0x24426572688>"
      ]
     },
     "execution_count": 100,
     "metadata": {},
     "output_type": "execute_result"
    },
    {
     "data": {
      "image/png": "[encoded data removed]",
      "text/plain": [
       "<Figure size 432x288 with 1 Axes>"
      ]
     },
     "metadata": {
      "needs_background": "light"
     },
     "output_type": "display_data"
    }
   ],
   "source": [
    "sns.boxplot(x =df['Grocery'])"
   ]
  },
  {
   "cell_type": "code",
   "execution_count": 101,
   "metadata": {},
   "outputs": [
    {
     "data": {
      "text/plain": [
       "<matplotlib.axes._subplots.AxesSubplot at 0x244265dd8c8>"
      ]
     },
     "execution_count": 101,
     "metadata": {},
     "output_type": "execute_result"
    },
    {
     "data": {
      "image/png": "[encoded data removed]",
      "text/plain": [
       "<Figure size 432x288 with 1 Axes>"
      ]
     },
     "metadata": {
      "needs_background": "light"
     },
     "output_type": "display_data"
    }
   ],
   "source": [
    "sns.boxplot(x =df['Frozen'])"
   ]
  },
  {
   "cell_type": "code",
   "execution_count": 102,
   "metadata": {},
   "outputs": [
    {
     "data": {
      "text/plain": [
       "<matplotlib.axes._subplots.AxesSubplot at 0x2442663fec8>"
      ]
     },
     "execution_count": 102,
     "metadata": {},
     "output_type": "execute_result"
    },
    {
     "data": {
      "image/png": "[encoded data removed]",
      "text/plain": [
       "<Figure size 432x288 with 1 Axes>"
      ]
     },
     "metadata": {
      "needs_background": "light"
     },
     "output_type": "display_data"
    }
   ],
   "source": [
    "sns.boxplot(x =df['Detergents_Paper'])"
   ]
  },
  {
   "cell_type": "code",
   "execution_count": 116,
   "metadata": {},
   "outputs": [
    {
     "data": {
      "text/plain": [
       "<matplotlib.axes._subplots.AxesSubplot at 0x244267a2c88>"
      ]
     },
     "execution_count": 116,
     "metadata": {},
     "output_type": "execute_result"
    },
    {
     "data": {
      "image/png": "[encoded data removed]",
      "text/plain": [
       "<Figure size 432x288 with 1 Axes>"
      ]
     },
     "metadata": {
      "needs_background": "light"
     },
     "output_type": "display_data"
    }
   ],
   "source": [
    "sns.boxplot(x =df['Delicatessen'])"
   ]
  },
  {
   "cell_type": "markdown",
   "metadata": {},
   "source": [
    "From the above boxplots we could analyse that all the six items have outliers."
   ]
  },
  {
   "cell_type": "markdown",
   "metadata": {},
   "source": [
    "1.5 On the basis of your analysis, what are your recommendations for the business? How can your analysis help the business to solve its problem? Answer from the business perspective"
   ]
  },
  {
   "cell_type": "markdown",
   "metadata": {},
   "source": [
    "As per the data analysis, I could state that there are inconsistencies in spending of different items (by calculating Coefficient of Variation), which should be minimized as it may affect the business flow. The spending scenario of Hotel and Retail channel are varying which should be uniform or more or less equal for unwrinkled flow of the retail business. Effort must be taken to spend more in  Milk , Frozen , Detergent Paper and Delicatessen as they are the least spend items across the region.\n",
    "\n"
   ]
  },
  {
   "cell_type": "code",
   "execution_count": null,
   "metadata": {},
   "outputs": [],
   "source": []
  },
  {
   "cell_type": "markdown",
   "metadata": {},
   "source": [
    "Problem 2 - (Download Data)\n",
    "\n",
    "The Student News Service at Clear Mountain State University (CMSU) has decided to gather data about the undergraduate students that attend CMSU. CMSU creates and distributes a survey of 14 questions and receives responses from 62 undergraduates (stored in the Survey data set)."
   ]
  },
  {
   "cell_type": "code",
   "execution_count": 55,
   "metadata": {},
   "outputs": [
    {
     "data": {
      "text/html": [
       "<div>\n",
       "<style scoped>\n",
       "    .dataframe tbody tr th:only-of-type {\n",
       "        vertical-align: middle;\n",
       "    }\n",
       "\n",
       "    .dataframe tbody tr th {\n",
       "        vertical-align: top;\n",
       "    }\n",
       "\n",
       "    .dataframe thead th {\n",
       "        text-align: right;\n",
       "    }\n",
       "</style>\n",
       "<table border=\"1\" class=\"dataframe\">\n",
       "  <thead>\n",
       "    <tr style=\"text-align: right;\">\n",
       "      <th></th>\n",
       "      <th>ID</th>\n",
       "      <th>Gender</th>\n",
       "      <th>Age</th>\n",
       "      <th>Class</th>\n",
       "      <th>Major</th>\n",
       "      <th>Grad Intention</th>\n",
       "      <th>GPA</th>\n",
       "      <th>Employment</th>\n",
       "      <th>Salary</th>\n",
       "      <th>Social Networking</th>\n",
       "      <th>Satisfaction</th>\n",
       "      <th>Spending</th>\n",
       "      <th>Computer</th>\n",
       "      <th>Text Messages</th>\n",
       "    </tr>\n",
       "  </thead>\n",
       "  <tbody>\n",
       "    <tr>\n",
       "      <td>0</td>\n",
       "      <td>1</td>\n",
       "      <td>Female</td>\n",
       "      <td>20</td>\n",
       "      <td>Junior</td>\n",
       "      <td>Other</td>\n",
       "      <td>Yes</td>\n",
       "      <td>2.90</td>\n",
       "      <td>Full-Time</td>\n",
       "      <td>50.00</td>\n",
       "      <td>1</td>\n",
       "      <td>3</td>\n",
       "      <td>350</td>\n",
       "      <td>Laptop</td>\n",
       "      <td>200</td>\n",
       "    </tr>\n",
       "    <tr>\n",
       "      <td>1</td>\n",
       "      <td>2</td>\n",
       "      <td>Male</td>\n",
       "      <td>23</td>\n",
       "      <td>Senior</td>\n",
       "      <td>Management</td>\n",
       "      <td>Yes</td>\n",
       "      <td>3.60</td>\n",
       "      <td>Part-Time</td>\n",
       "      <td>25.00</td>\n",
       "      <td>1</td>\n",
       "      <td>4</td>\n",
       "      <td>360</td>\n",
       "      <td>Laptop</td>\n",
       "      <td>50</td>\n",
       "    </tr>\n",
       "    <tr>\n",
       "      <td>2</td>\n",
       "      <td>3</td>\n",
       "      <td>Male</td>\n",
       "      <td>21</td>\n",
       "      <td>Junior</td>\n",
       "      <td>Other</td>\n",
       "      <td>Yes</td>\n",
       "      <td>2.50</td>\n",
       "      <td>Part-Time</td>\n",
       "      <td>45.00</td>\n",
       "      <td>2</td>\n",
       "      <td>4</td>\n",
       "      <td>600</td>\n",
       "      <td>Laptop</td>\n",
       "      <td>200</td>\n",
       "    </tr>\n",
       "    <tr>\n",
       "      <td>3</td>\n",
       "      <td>4</td>\n",
       "      <td>Male</td>\n",
       "      <td>21</td>\n",
       "      <td>Junior</td>\n",
       "      <td>CIS</td>\n",
       "      <td>Yes</td>\n",
       "      <td>2.50</td>\n",
       "      <td>Full-Time</td>\n",
       "      <td>40.00</td>\n",
       "      <td>4</td>\n",
       "      <td>6</td>\n",
       "      <td>600</td>\n",
       "      <td>Laptop</td>\n",
       "      <td>250</td>\n",
       "    </tr>\n",
       "    <tr>\n",
       "      <td>4</td>\n",
       "      <td>5</td>\n",
       "      <td>Male</td>\n",
       "      <td>23</td>\n",
       "      <td>Senior</td>\n",
       "      <td>Other</td>\n",
       "      <td>Undecided</td>\n",
       "      <td>2.80</td>\n",
       "      <td>Unemployed</td>\n",
       "      <td>40.00</td>\n",
       "      <td>2</td>\n",
       "      <td>4</td>\n",
       "      <td>500</td>\n",
       "      <td>Laptop</td>\n",
       "      <td>100</td>\n",
       "    </tr>\n",
       "    <tr>\n",
       "      <td>...</td>\n",
       "      <td>...</td>\n",
       "      <td>...</td>\n",
       "      <td>...</td>\n",
       "      <td>...</td>\n",
       "      <td>...</td>\n",
       "      <td>...</td>\n",
       "      <td>...</td>\n",
       "      <td>...</td>\n",
       "      <td>...</td>\n",
       "      <td>...</td>\n",
       "      <td>...</td>\n",
       "      <td>...</td>\n",
       "      <td>...</td>\n",
       "      <td>...</td>\n",
       "    </tr>\n",
       "    <tr>\n",
       "      <td>57</td>\n",
       "      <td>58</td>\n",
       "      <td>Female</td>\n",
       "      <td>21</td>\n",
       "      <td>Senior</td>\n",
       "      <td>International Business</td>\n",
       "      <td>No</td>\n",
       "      <td>2.40</td>\n",
       "      <td>Part-Time</td>\n",
       "      <td>40.00</td>\n",
       "      <td>1</td>\n",
       "      <td>3</td>\n",
       "      <td>1000</td>\n",
       "      <td>Laptop</td>\n",
       "      <td>10</td>\n",
       "    </tr>\n",
       "    <tr>\n",
       "      <td>58</td>\n",
       "      <td>59</td>\n",
       "      <td>Female</td>\n",
       "      <td>20</td>\n",
       "      <td>Junior</td>\n",
       "      <td>CIS</td>\n",
       "      <td>No</td>\n",
       "      <td>2.90</td>\n",
       "      <td>Part-Time</td>\n",
       "      <td>40.00</td>\n",
       "      <td>2</td>\n",
       "      <td>4</td>\n",
       "      <td>350</td>\n",
       "      <td>Laptop</td>\n",
       "      <td>250</td>\n",
       "    </tr>\n",
       "    <tr>\n",
       "      <td>59</td>\n",
       "      <td>60</td>\n",
       "      <td>Female</td>\n",
       "      <td>20</td>\n",
       "      <td>Sophomore</td>\n",
       "      <td>CIS</td>\n",
       "      <td>No</td>\n",
       "      <td>2.50</td>\n",
       "      <td>Part-Time</td>\n",
       "      <td>55.00</td>\n",
       "      <td>1</td>\n",
       "      <td>4</td>\n",
       "      <td>500</td>\n",
       "      <td>Laptop</td>\n",
       "      <td>500</td>\n",
       "    </tr>\n",
       "    <tr>\n",
       "      <td>60</td>\n",
       "      <td>61</td>\n",
       "      <td>Female</td>\n",
       "      <td>23</td>\n",
       "      <td>Senior</td>\n",
       "      <td>Accounting</td>\n",
       "      <td>Yes</td>\n",
       "      <td>3.50</td>\n",
       "      <td>Part-Time</td>\n",
       "      <td>30.00</td>\n",
       "      <td>2</td>\n",
       "      <td>3</td>\n",
       "      <td>490</td>\n",
       "      <td>Laptop</td>\n",
       "      <td>50</td>\n",
       "    </tr>\n",
       "    <tr>\n",
       "      <td>61</td>\n",
       "      <td>62</td>\n",
       "      <td>Female</td>\n",
       "      <td>23</td>\n",
       "      <td>Senior</td>\n",
       "      <td>Economics/Finance</td>\n",
       "      <td>No</td>\n",
       "      <td>3.20</td>\n",
       "      <td>Part-Time</td>\n",
       "      <td>70.00</td>\n",
       "      <td>2</td>\n",
       "      <td>3</td>\n",
       "      <td>250</td>\n",
       "      <td>Laptop</td>\n",
       "      <td>0</td>\n",
       "    </tr>\n",
       "  </tbody>\n",
       "</table>\n",
       "<p>62 rows × 14 columns</p>\n",
       "</div>"
      ],
      "text/plain": [
       "    ID  Gender  Age      Class                   Major Grad Intention  GPA  \\\n",
       "0    1  Female   20     Junior                   Other            Yes 2.90   \n",
       "1    2    Male   23     Senior              Management            Yes 3.60   \n",
       "2    3    Male   21     Junior                   Other            Yes 2.50   \n",
       "3    4    Male   21     Junior                     CIS            Yes 2.50   \n",
       "4    5    Male   23     Senior                   Other      Undecided 2.80   \n",
       "..  ..     ...  ...        ...                     ...            ...  ...   \n",
       "57  58  Female   21     Senior  International Business             No 2.40   \n",
       "58  59  Female   20     Junior                     CIS             No 2.90   \n",
       "59  60  Female   20  Sophomore                     CIS             No 2.50   \n",
       "60  61  Female   23     Senior              Accounting            Yes 3.50   \n",
       "61  62  Female   23     Senior       Economics/Finance             No 3.20   \n",
       "\n",
       "    Employment  Salary  Social Networking  Satisfaction  Spending Computer  \\\n",
       "0    Full-Time   50.00                  1             3       350   Laptop   \n",
       "1    Part-Time   25.00                  1             4       360   Laptop   \n",
       "2    Part-Time   45.00                  2             4       600   Laptop   \n",
       "3    Full-Time   40.00                  4             6       600   Laptop   \n",
       "4   Unemployed   40.00                  2             4       500   Laptop   \n",
       "..         ...     ...                ...           ...       ...      ...   \n",
       "57   Part-Time   40.00                  1             3      1000   Laptop   \n",
       "58   Part-Time   40.00                  2             4       350   Laptop   \n",
       "59   Part-Time   55.00                  1             4       500   Laptop   \n",
       "60   Part-Time   30.00                  2             3       490   Laptop   \n",
       "61   Part-Time   70.00                  2             3       250   Laptop   \n",
       "\n",
       "    Text Messages  \n",
       "0             200  \n",
       "1              50  \n",
       "2             200  \n",
       "3             250  \n",
       "4             100  \n",
       "..            ...  \n",
       "57             10  \n",
       "58            250  \n",
       "59            500  \n",
       "60             50  \n",
       "61              0  \n",
       "\n",
       "[62 rows x 14 columns]"
      ]
     },
     "execution_count": 55,
     "metadata": {},
     "output_type": "execute_result"
    }
   ],
   "source": [
    "df= pd.read_csv('C:\\\\Users\\\\amvi\\\\Downloads\\\\Survey-1.csv')\n",
    "df"
   ]
  },
  {
   "cell_type": "markdown",
   "metadata": {},
   "source": [
    "The Student News Service at Clear Mountain State University (CMSU) has decided to gather data about the undergraduate students that attend CMSU. CMSU creates and distributes a survey of 14 questions and receives responses from 62 undergraduates (stored in the Survey data set).\n",
    "\n",
    "2.1. For this data, construct the following contingency tables (Keep Gender as row variable)\n",
    "\n",
    "2.1.1. Gender and Major\n",
    "\n",
    "2.1.2. Gender and Grad Intention\n",
    "\n",
    "2.1.3. Gender and Employment\n",
    "\n",
    "2.1.4. Gender and Computer"
   ]
  },
  {
   "cell_type": "code",
   "execution_count": 56,
   "metadata": {},
   "outputs": [
    {
     "name": "stdout",
     "output_type": "stream",
     "text": [
      "Major   Accounting  CIS  Economics/Finance  International Business  \\\n",
      "Gender                                                               \n",
      "Female           3    3                  7                       4   \n",
      "Male             4    1                  4                       2   \n",
      "\n",
      "Major   Management  Other  Retailing/Marketing  Undecided  \n",
      "Gender                                                     \n",
      "Female           4      3                    9          0  \n",
      "Male             6      4                    5          3  \n"
     ]
    }
   ],
   "source": [
    "df_crosstab = pd.crosstab(df['Gender'], df['Major'], \n",
    "                               margins = False)\n",
    "print(df_crosstab)"
   ]
  },
  {
   "cell_type": "code",
   "execution_count": 57,
   "metadata": {},
   "outputs": [
    {
     "name": "stdout",
     "output_type": "stream",
     "text": [
      "Grad Intention  No  Undecided  Yes\n",
      "Gender                            \n",
      "Female           9         13   11\n",
      "Male             3          9   17\n"
     ]
    }
   ],
   "source": [
    "df_crosstab = pd.crosstab(df['Gender'], df['Grad Intention'], \n",
    "                               margins = False)\n",
    "print(df_crosstab)"
   ]
  },
  {
   "cell_type": "code",
   "execution_count": 58,
   "metadata": {},
   "outputs": [
    {
     "name": "stdout",
     "output_type": "stream",
     "text": [
      "Employment  Full-Time  Part-Time  Unemployed\n",
      "Gender                                      \n",
      "Female              3         24           6\n",
      "Male                7         19           3\n"
     ]
    }
   ],
   "source": [
    "df_crosstab = pd.crosstab(df['Gender'], df['Employment'], \n",
    "                               margins = False)\n",
    "print(df_crosstab)"
   ]
  },
  {
   "cell_type": "code",
   "execution_count": 59,
   "metadata": {},
   "outputs": [
    {
     "name": "stdout",
     "output_type": "stream",
     "text": [
      "Computer  Desktop  Laptop  Tablet\n",
      "Gender                           \n",
      "Female          2      29       2\n",
      "Male            3      26       0\n"
     ]
    }
   ],
   "source": [
    "df_crosstab = pd.crosstab(df['Gender'], df['Computer'], \n",
    "                               margins = False)\n",
    "print(df_crosstab)"
   ]
  },
  {
   "cell_type": "markdown",
   "metadata": {},
   "source": [
    "2.2. Assume that the sample is representative of the population of CMSU. Based on the data, answer the following question:\n",
    "\n",
    "2.2.1. What is the probability that a randomly selected CMSU student will be male?\n",
    "\n",
    "2.2.2. What is the probability that a randomly selected CMSU student will be female?"
   ]
  },
  {
   "cell_type": "code",
   "execution_count": 60,
   "metadata": {},
   "outputs": [
    {
     "name": "stdout",
     "output_type": "stream",
     "text": [
      "the probability that a randomly selected CMSU student will be male. is 46.8%\n"
     ]
    }
   ],
   "source": [
    "#2.2.1\n",
    "Total_Male=29\n",
    "Total_Students=62\n",
    "Prob_Male = round(Total_Male/Total_Students,4)*100\n",
    "print('the probability that a randomly selected CMSU student will be male. is %1.1f' % Prob_Male +'%')"
   ]
  },
  {
   "cell_type": "code",
   "execution_count": 61,
   "metadata": {},
   "outputs": [
    {
     "name": "stdout",
     "output_type": "stream",
     "text": [
      "the probability that a randomly selected CMSU student will be female. is 53.2%\n"
     ]
    }
   ],
   "source": [
    "#2.2.2\n",
    "Total_Female=33\n",
    "Total_Students=62\n",
    "Prob_Female = round(Total_Female/Total_Students,4)*100\n",
    "print('the probability that a randomly selected CMSU student will be female. is %1.1f' % Prob_Female +'%')"
   ]
  },
  {
   "cell_type": "markdown",
   "metadata": {},
   "source": [
    "2.3. Assume that the sample is representative of the population of CMSU. Based on the data, answer the following question:\n",
    "\n",
    "2.3.1. Find the conditional probability of different majors among the male students in CMSU.\n",
    "\n",
    "2.3.2 Find the conditional probability of different majors among the female students of CMSU."
   ]
  },
  {
   "cell_type": "code",
   "execution_count": 62,
   "metadata": {},
   "outputs": [
    {
     "name": "stdout",
     "output_type": "stream",
     "text": [
      "Major   Accounting  CIS  Economics/Finance  International Business  \\\n",
      "Gender                                                               \n",
      "Female           3    3                  7                       4   \n",
      "Male             4    1                  4                       2   \n",
      "\n",
      "Major   Management  Other  Retailing/Marketing  Undecided  \n",
      "Gender                                                     \n",
      "Female           4      3                    9          0  \n",
      "Male             6      4                    5          3  \n"
     ]
    }
   ],
   "source": [
    "df_crosstab = pd.crosstab(df['Gender'], df['Major'], \n",
    "                               margins = False)\n",
    "print(df_crosstab)"
   ]
  },
  {
   "cell_type": "code",
   "execution_count": 63,
   "metadata": {},
   "outputs": [
    {
     "name": "stdout",
     "output_type": "stream",
     "text": [
      "Total male opting Accounting major. is 13.8%\n"
     ]
    }
   ],
   "source": [
    "Male_Acc=4\n",
    "Total_Male=29\n",
    "Male_Accou = round(Male_Acc/Total_Male,4)*100\n",
    "print('Total male opting Accounting major. is %1.1f' % Male_Accou +'%')"
   ]
  },
  {
   "cell_type": "code",
   "execution_count": 64,
   "metadata": {},
   "outputs": [
    {
     "name": "stdout",
     "output_type": "stream",
     "text": [
      "Total male opting CIS major. is 3.5%\n"
     ]
    }
   ],
   "source": [
    "Male_CIS=1 \n",
    "Total_Male=29\n",
    "Male_CIS = round(Male_CIS/Total_Male,4)*100\n",
    "print('Total male opting CIS major. is %1.1f' % Male_CIS +'%')"
   ]
  },
  {
   "cell_type": "code",
   "execution_count": 65,
   "metadata": {},
   "outputs": [
    {
     "name": "stdout",
     "output_type": "stream",
     "text": [
      "Total male opting Economics/Finance major. is 13.8%\n"
     ]
    }
   ],
   "source": [
    "Male_Ecofin=4\n",
    "Total_Male=29\n",
    "Male_Ecofin = round(Male_Ecofin/Total_Male,4)*100\n",
    "print('Total male opting Economics/Finance major. is %1.1f' % Male_Ecofin +'%')"
   ]
  },
  {
   "cell_type": "code",
   "execution_count": 66,
   "metadata": {},
   "outputs": [
    {
     "name": "stdout",
     "output_type": "stream",
     "text": [
      "Total male opting International Business. is 6.9%\n"
     ]
    }
   ],
   "source": [
    "Male_Intbuis=2\n",
    "Total_Male=29\n",
    "Male_Intbuis = round(Male_Intbuis/Total_Male,4)*100\n",
    "print('Total male opting International Business. is %1.1f' % Male_Intbuis +'%')"
   ]
  },
  {
   "cell_type": "code",
   "execution_count": 67,
   "metadata": {},
   "outputs": [
    {
     "name": "stdout",
     "output_type": "stream",
     "text": [
      "Total male opting IManagement.is 20.7%\n"
     ]
    }
   ],
   "source": [
    "Male_Manmnt=6\n",
    "Total_Male=29\n",
    "Male_Manmnt = round(Male_Manmnt/Total_Male,4)*100\n",
    "print('Total male opting IManagement.is %1.1f' % Male_Manmnt +'%')"
   ]
  },
  {
   "cell_type": "code",
   "execution_count": 68,
   "metadata": {},
   "outputs": [
    {
     "name": "stdout",
     "output_type": "stream",
     "text": [
      "Total male opting Others.is 13.8%\n"
     ]
    }
   ],
   "source": [
    "Male_Others=4 \n",
    "Total_Male=29\n",
    "Male_Others = round(Male_Others/Total_Male,4)*100\n",
    "print('Total male opting Others.is %1.1f' % Male_Others +'%')"
   ]
  },
  {
   "cell_type": "code",
   "execution_count": 69,
   "metadata": {},
   "outputs": [
    {
     "name": "stdout",
     "output_type": "stream",
     "text": [
      "Total male opting Retmar.is 17.2%\n"
     ]
    }
   ],
   "source": [
    "Male_Retmar=5\n",
    "Total_Male=29\n",
    "Male_Retmar = round(Male_Retmar/Total_Male,4)*100\n",
    "print('Total male opting Retmar.is %1.1f' % Male_Retmar +'%')"
   ]
  },
  {
   "cell_type": "code",
   "execution_count": 70,
   "metadata": {},
   "outputs": [
    {
     "name": "stdout",
     "output_type": "stream",
     "text": [
      "Total male still undicided.is 10.3%\n"
     ]
    }
   ],
   "source": [
    "Male_Undecided =3\n",
    "Total_Male=29\n",
    "Male_Undecided  = round(Male_Undecided /Total_Male,4)*100\n",
    "print('Total male still undicided.is %1.1f' % Male_Undecided  +'%')"
   ]
  },
  {
   "cell_type": "markdown",
   "metadata": {},
   "source": [
    "2.3.2 Find the conditional probability of different majors among the female students of CMSU."
   ]
  },
  {
   "cell_type": "code",
   "execution_count": 71,
   "metadata": {},
   "outputs": [
    {
     "name": "stdout",
     "output_type": "stream",
     "text": [
      "Major   Accounting  CIS  Economics/Finance  International Business  \\\n",
      "Gender                                                               \n",
      "Female           3    3                  7                       4   \n",
      "Male             4    1                  4                       2   \n",
      "\n",
      "Major   Management  Other  Retailing/Marketing  Undecided  \n",
      "Gender                                                     \n",
      "Female           4      3                    9          0  \n",
      "Male             6      4                    5          3  \n"
     ]
    }
   ],
   "source": [
    "df_crosstab = pd.crosstab(df['Gender'], df['Major'], \n",
    "                               margins = False)\n",
    "print(df_crosstab)"
   ]
  },
  {
   "cell_type": "code",
   "execution_count": 72,
   "metadata": {},
   "outputs": [
    {
     "name": "stdout",
     "output_type": "stream",
     "text": [
      "Total female opting Accounting major. is 9.1%\n"
     ]
    }
   ],
   "source": [
    "Female_Acc=3\n",
    "Total_Female=33\n",
    "Female_Acc = round(Female_Acc/Total_Female,4)*100\n",
    "print('Total female opting Accounting major. is %1.1f' % Female_Acc +'%')"
   ]
  },
  {
   "cell_type": "code",
   "execution_count": 73,
   "metadata": {},
   "outputs": [
    {
     "name": "stdout",
     "output_type": "stream",
     "text": [
      "Total female opting CIS  major. is 9.1%\n"
     ]
    }
   ],
   "source": [
    "Female_CIS =3\n",
    "Total_Female=33\n",
    "Female_CIS  = round(Female_CIS /Total_Female,4)*100\n",
    "print('Total female opting CIS  major. is %1.1f' % Female_CIS  +'%')"
   ]
  },
  {
   "cell_type": "code",
   "execution_count": 74,
   "metadata": {},
   "outputs": [
    {
     "name": "stdout",
     "output_type": "stream",
     "text": [
      "Total female opting Economics/Finance  major. is 21.2%\n"
     ]
    }
   ],
   "source": [
    "Female_Ecofin =7\n",
    "Total_Female=33\n",
    "Female_Ecofin  = round(Female_Ecofin /Total_Female,4)*100\n",
    "print('Total female opting Economics/Finance  major. is %1.1f' % Female_Ecofin  +'%')"
   ]
  },
  {
   "cell_type": "code",
   "execution_count": 75,
   "metadata": {},
   "outputs": [
    {
     "name": "stdout",
     "output_type": "stream",
     "text": [
      "Total female opting International Business major. is 12.1%\n"
     ]
    }
   ],
   "source": [
    "Female_Intbui=4\n",
    "Total_Female=33\n",
    "Female_Intbui  = round(Female_Intbui/Total_Female,4)*100\n",
    "print('Total female opting International Business major. is %1.1f' % Female_Intbui  +'%')"
   ]
  },
  {
   "cell_type": "code",
   "execution_count": 76,
   "metadata": {},
   "outputs": [
    {
     "name": "stdout",
     "output_type": "stream",
     "text": [
      "Total female opting Management major. is 12.1%\n"
     ]
    }
   ],
   "source": [
    "Female_Management=4\n",
    "Total_Female=33\n",
    "Female_Management  = round(Female_Management/Total_Female,4)*100\n",
    "print('Total female opting Management major. is %1.1f' % Female_Management  +'%')"
   ]
  },
  {
   "cell_type": "code",
   "execution_count": 77,
   "metadata": {},
   "outputs": [
    {
     "name": "stdout",
     "output_type": "stream",
     "text": [
      "Total female opting Other majors. is 9.1%\n"
     ]
    }
   ],
   "source": [
    "Female_Other=3\n",
    "Total_Female=33\n",
    "Female_Other  = round(Female_Other/Total_Female,4)*100\n",
    "print('Total female opting Other majors. is %1.1f' % Female_Other  +'%')"
   ]
  },
  {
   "cell_type": "code",
   "execution_count": 78,
   "metadata": {},
   "outputs": [
    {
     "name": "stdout",
     "output_type": "stream",
     "text": [
      "Total female opting Retailing/Marketing major. is 27.3%\n"
     ]
    }
   ],
   "source": [
    "Female_Remar=9\n",
    "Total_Female=33\n",
    "Female_Remar = round(Female_Remar/Total_Female,4)*100\n",
    "print('Total female opting Retailing/Marketing major. is %1.1f' % Female_Remar +'%')"
   ]
  },
  {
   "cell_type": "code",
   "execution_count": 79,
   "metadata": {},
   "outputs": [
    {
     "name": "stdout",
     "output_type": "stream",
     "text": [
      "Total female  yet Undecided their major. is 0.0%\n"
     ]
    }
   ],
   "source": [
    "Female_Undecided=0\n",
    "Total_Female=33\n",
    "Female_Undecided  = round(Female_Undecided  /Total_Female,4)*100\n",
    "print('Total female  yet Undecided their major. is %1.1f' % Female_Undecided   +'%')"
   ]
  },
  {
   "cell_type": "markdown",
   "metadata": {},
   "source": [
    "2.4. Assume that the sample is a representative of the population of CMSU. Based on the data, answer the following question:\n",
    "\n",
    "2.4.1. Find the probability That a randomly chosen student is a male and intends to graduate.\n",
    "\n",
    "2.4.2 Find the probability that a randomly selected student is a female and does NOT have a laptop."
   ]
  },
  {
   "cell_type": "code",
   "execution_count": 80,
   "metadata": {},
   "outputs": [
    {
     "name": "stdout",
     "output_type": "stream",
     "text": [
      "Grad Intention  No  Undecided  Yes\n",
      "Gender                            \n",
      "Female           9         13   11\n",
      "Male             3          9   17\n"
     ]
    }
   ],
   "source": [
    "df_crosstab = pd.crosstab(df['Gender'], df['Grad Intention'], \n",
    "                               margins = False)\n",
    "print(df_crosstab)"
   ]
  },
  {
   "cell_type": "code",
   "execution_count": 81,
   "metadata": {},
   "outputs": [
    {
     "name": "stdout",
     "output_type": "stream",
     "text": [
      "randomly chosen student is a male and intends to graduate . is 27.4%\n"
     ]
    }
   ],
   "source": [
    "#Pr(randomly chosen student is a male | intends to graduate)\n",
    "No_of_males_intends_to_graduate =17\n",
    "Total_Male=62\n",
    "\n",
    "Prob_Randomly_selected_candidate_is_a_male=round(No_of_males_intends_to_graduate/Total_Male,3)*100\n",
    "print('randomly chosen student is a male and intends to graduate . is %1.1f' % Prob_Randomly_selected_candidate_is_a_male +'%')"
   ]
  },
  {
   "cell_type": "code",
   "execution_count": 82,
   "metadata": {},
   "outputs": [
    {
     "name": "stdout",
     "output_type": "stream",
     "text": [
      "Computer  Desktop  Laptop  Tablet\n",
      "Gender                           \n",
      "Female          2      29       2\n",
      "Male            3      26       0\n"
     ]
    }
   ],
   "source": [
    "df_crosstab = pd.crosstab(df['Gender'], df['Computer'], \n",
    "                               margins = False)\n",
    "print(df_crosstab)"
   ]
  },
  {
   "cell_type": "code",
   "execution_count": 83,
   "metadata": {},
   "outputs": [
    {
     "name": "stdout",
     "output_type": "stream",
     "text": [
      "the probability that a randomly selected student is a female and does NOT have a laptop. . is 6.5%\n"
     ]
    }
   ],
   "source": [
    "#P(A|B)=(randomly chosen student is a female | without a laptop)\n",
    "No_of_females_without_laptop = 33-29\n",
    "Total_Female=62\n",
    "\n",
    "Prob_Randomly_selected_candidate_is_a_female=round(No_of_females_without_laptop/Total_Female,4)*100\n",
    "print('the probability that a randomly selected student is a female and does NOT have a laptop. . is %1.1f' % Prob_Randomly_selected_candidate_is_a_female +'%')\n"
   ]
  },
  {
   "cell_type": "markdown",
   "metadata": {},
   "source": [
    "2.5. Assume that the sample is representative of the population of CMSU. Based on the data, answer the following question:\n",
    "\n",
    "2.5.1. Find the probability that a randomly chosen student is a male or has full-time employment?\n",
    "\n",
    "2.5.2. Find the conditional probability that given a female student is randomly chosen, she is majoring in international business or management."
   ]
  },
  {
   "cell_type": "code",
   "execution_count": 84,
   "metadata": {},
   "outputs": [
    {
     "name": "stdout",
     "output_type": "stream",
     "text": [
      "Employment  Full-Time  Part-Time  Unemployed\n",
      "Gender                                      \n",
      "Female              3         24           6\n",
      "Male                7         19           3\n"
     ]
    }
   ],
   "source": [
    "df_crosstab = pd.crosstab(df['Gender'], df['Employment'], \n",
    "                               margins = False)\n",
    "print(df_crosstab)"
   ]
  },
  {
   "cell_type": "code",
   "execution_count": 85,
   "metadata": {},
   "outputs": [
    {
     "name": "stdout",
     "output_type": "stream",
     "text": [
      "the probability that a randomly selected student is a male or has full-time employment. . is 51.6%\n"
     ]
    }
   ],
   "source": [
    "#P(A|B)=( randomly chosen student is a male | or  has full-time employment)\n",
    "Total_no_of_males = 29/62\n",
    "Full_Employement= 10/62\n",
    "Prob_male_fulltime=7/62\n",
    "\n",
    "Prob_Randomly_selected_candidate_is_a_male=round(Total_no_of_males+Full_Employement-Prob_male_fulltime,4)*100\n",
    "print('the probability that a randomly selected student is a male or has full-time employment. . is %1.1f' % Prob_Randomly_selected_candidate_is_a_male +'%')\n"
   ]
  },
  {
   "cell_type": "markdown",
   "metadata": {},
   "source": [
    "2.5.2. Find the conditional probability that given a female student is randomly chosen, she is majoring in international business or management."
   ]
  },
  {
   "cell_type": "code",
   "execution_count": 86,
   "metadata": {},
   "outputs": [
    {
     "name": "stdout",
     "output_type": "stream",
     "text": [
      "Major   Accounting  CIS  Economics/Finance  International Business  \\\n",
      "Gender                                                               \n",
      "Female           3    3                  7                       4   \n",
      "Male             4    1                  4                       2   \n",
      "\n",
      "Major   Management  Other  Retailing/Marketing  Undecided  \n",
      "Gender                                                     \n",
      "Female           4      3                    9          0  \n",
      "Male             6      4                    5          3  \n"
     ]
    }
   ],
   "source": [
    "df_crosstab = pd.crosstab(df['Gender'], df['Major'], \n",
    "                               margins = False)\n",
    "print(df_crosstab)"
   ]
  },
  {
   "cell_type": "code",
   "execution_count": 87,
   "metadata": {},
   "outputs": [
    {
     "name": "stdout",
     "output_type": "stream",
     "text": [
      "the probability that a randomly selected student is a female and majoring in international business or management . is 24.2%\n"
     ]
    }
   ],
   "source": [
    "#P(she is a female| majoring in international business or management.)\n",
    "\n",
    "\n",
    "Total_Female_Major_IBM = 4+4\n",
    "Total_Female = 33\n",
    "\n",
    "\n",
    "\n",
    "Prob_female =round(Total_Female_Major_IBM/Total_Female ,4)*100\n",
    "print('the probability that a randomly selected student is a female and majoring in international business or management . is %1.1f' % Prob_female +'%')\n",
    "\n"
   ]
  },
  {
   "cell_type": "markdown",
   "metadata": {},
   "source": [
    "2.6. Construct a contingency table of Gender and Intent to Graduate at 2 levels (Yes/No). The Undecided students are not considered now and the table is a 2x2 table. Do you think the graduate intention and being female are independent events?"
   ]
  },
  {
   "cell_type": "code",
   "execution_count": 88,
   "metadata": {},
   "outputs": [
    {
     "name": "stdout",
     "output_type": "stream",
     "text": [
      "Grad Intention  No  Undecided  Yes\n",
      "Gender                            \n",
      "Female           9         13   11\n",
      "Male             3          9   17\n"
     ]
    }
   ],
   "source": [
    "df_crosstab = pd.crosstab(df['Gender'], df['Grad Intention'],\n",
    "                               margins = False)\n",
    "print(df_crosstab )"
   ]
  },
  {
   "cell_type": "code",
   "execution_count": 89,
   "metadata": {},
   "outputs": [
    {
     "data": {
      "text/html": [
       "<div>\n",
       "<style scoped>\n",
       "    .dataframe tbody tr th:only-of-type {\n",
       "        vertical-align: middle;\n",
       "    }\n",
       "\n",
       "    .dataframe tbody tr th {\n",
       "        vertical-align: top;\n",
       "    }\n",
       "\n",
       "    .dataframe thead th {\n",
       "        text-align: right;\n",
       "    }\n",
       "</style>\n",
       "<table border=\"1\" class=\"dataframe\">\n",
       "  <thead>\n",
       "    <tr style=\"text-align: right;\">\n",
       "      <th>Grad Intention</th>\n",
       "      <th>No</th>\n",
       "      <th>Yes</th>\n",
       "    </tr>\n",
       "    <tr>\n",
       "      <th>Gender</th>\n",
       "      <th></th>\n",
       "      <th></th>\n",
       "    </tr>\n",
       "  </thead>\n",
       "  <tbody>\n",
       "    <tr>\n",
       "      <td>Female</td>\n",
       "      <td>9</td>\n",
       "      <td>11</td>\n",
       "    </tr>\n",
       "    <tr>\n",
       "      <td>Male</td>\n",
       "      <td>3</td>\n",
       "      <td>17</td>\n",
       "    </tr>\n",
       "  </tbody>\n",
       "</table>\n",
       "</div>"
      ],
      "text/plain": [
       "Grad Intention  No  Yes\n",
       "Gender                 \n",
       "Female           9   11\n",
       "Male             3   17"
      ]
     },
     "execution_count": 89,
     "metadata": {},
     "output_type": "execute_result"
    }
   ],
   "source": [
    "df_crosstab[['No','Yes',]]"
   ]
  },
  {
   "attachments": {
    "image.png": {
     "image/png": "[encoded data removed]"
    }
   },
   "cell_type": "markdown",
   "metadata": {},
   "source": [
    "\n",
    "Grad Intention\tNo \tYes\tTotal\n",
    "Gender\t\t\t\n",
    "Female\t9\t11\t20\n",
    "Male\t3\t17\t20\n",
    "Total\t12\t28\t40\n",
    "![image.png](attachment:image.png)\n",
    "\n",
    "\n",
    "The Probability that a randomly selected student ‘being female’ and The Probability that a randomly selected student the graduate intention and being female are as follows:\n",
    "P(Grad Intention Yes) = 28/40 = 0.7 \n",
    "P(Grad Intention Yes | female) = 11 / 20 = 0.55 \n",
    "These probabilities are not equal and one event doesn't change the probability of the occurrence of the other \n",
    "Event so we can tell that the two events are independent events.\n"
   ]
  },
  {
   "cell_type": "code",
   "execution_count": null,
   "metadata": {},
   "outputs": [],
   "source": []
  },
  {
   "cell_type": "markdown",
   "metadata": {},
   "source": [
    "2.7. Note that there are four numerical (continuous) variables in the data set, GPA, Salary, Spending, and Text Messages.\n",
    "\n",
    "Answer the following questions based on the data\n",
    "\n",
    "2.7.1. If a student is chosen randomly, what is the probability that his/her GPA is less than 3?\n",
    "\n",
    "2.7.2. Find the conditional probability that a randomly selected male earns 50 or more. Find the conditional probability that a randomly selected female earns 50 or more."
   ]
  },
  {
   "cell_type": "code",
   "execution_count": 90,
   "metadata": {},
   "outputs": [
    {
     "name": "stdout",
     "output_type": "stream",
     "text": [
      "GPA     2.30  2.40  2.50  2.60  2.80  2.90  3.00  3.10  3.20  3.30  3.40  \\\n",
      "Gender                                                                     \n",
      "Female     1     1     2     0     1     3     5     2     4     3     2   \n",
      "Male       0     0     4     2     2     1     2     5     2     2     5   \n",
      "\n",
      "GPA     3.50  3.60  3.70  3.80  3.90  \n",
      "Gender                                \n",
      "Female     4     1     2     1     1  \n",
      "Male       2     2     0     0     0  \n"
     ]
    }
   ],
   "source": [
    "df_crosstab = pd.crosstab(df['Gender'], df['GPA'],\n",
    "                               margins = False)\n",
    "print(df_crosstab )"
   ]
  },
  {
   "cell_type": "code",
   "execution_count": 91,
   "metadata": {},
   "outputs": [
    {
     "name": "stdout",
     "output_type": "stream",
     "text": [
      "Probability that that his/her GPA is less than 3. is 27.4%\n"
     ]
    }
   ],
   "source": [
    "#p(GPA<3)\n",
    "\n",
    "Total_GPA_Less_Than_Three = 17\n",
    "Total_Students=62\n",
    "\n",
    "Prob_GPA =round(Total_GPA_Less_Than_Three/Total_Students ,4)*100\n",
    "\n",
    "print('Probability that that his/her GPA is less than 3. is %1.1f' % Prob_GPA +'%')"
   ]
  },
  {
   "cell_type": "code",
   "execution_count": 92,
   "metadata": {},
   "outputs": [
    {
     "name": "stdout",
     "output_type": "stream",
     "text": [
      "randomly selected male earns 50 or more. is 48.3%\n",
      "randomly selected female earns 50 or more. is 54.5%\n"
     ]
    }
   ],
   "source": [
    "#p(Salary>=50 | Male)\n",
    "Total_Salary_Greater_Fifty_Male = 4+1+1+3+3+1+0+0+1\n",
    "Total_Male=29\n",
    "\n",
    "Prob_Male =round(Total_Salary_Greater_Fifty_Male/Total_Male ,4)*100\n",
    "\n",
    "print('randomly selected male earns 50 or more. is %1.1f' % Prob_Male +'%')\n",
    "\n",
    "#p(Salary>=50 | Female)\n",
    "Total_Salary_Greater_Fifty_Female = 5+0+0+5+5+0+1+1+1\n",
    "Total_Female=33\n",
    "\n",
    "Prob_Female =round(Total_Salary_Greater_Fifty_Female/Total_Female ,4)*100\n",
    "\n",
    "print('randomly selected female earns 50 or more. is %1.1f' % Prob_Female +'%')"
   ]
  },
  {
   "cell_type": "markdown",
   "metadata": {},
   "source": [
    "2.8. Note that there are four numerical (continuous) variables in the data set, GPA, Salary, Spending, and Text Messages. For each of them comment whether they follow a normal distribution. Write a note summarizing your conclusions."
   ]
  },
  {
   "cell_type": "code",
   "execution_count": 93,
   "metadata": {},
   "outputs": [
    {
     "data": {
      "text/plain": [
       "<matplotlib.axes._subplots.AxesSubplot at 0x28c925e7d88>"
      ]
     },
     "execution_count": 93,
     "metadata": {},
     "output_type": "execute_result"
    },
    {
     "data": {
      "image/png": "[encoded data removed]",
      "text/plain": [
       "<Figure size 432x288 with 1 Axes>"
      ]
     },
     "metadata": {
      "needs_background": "light"
     },
     "output_type": "display_data"
    }
   ],
   "source": [
    "sns.distplot(df['GPA'])"
   ]
  },
  {
   "cell_type": "code",
   "execution_count": 94,
   "metadata": {},
   "outputs": [
    {
     "data": {
      "text/plain": [
       "<matplotlib.axes._subplots.AxesSubplot at 0x28c9276ed88>"
      ]
     },
     "execution_count": 94,
     "metadata": {},
     "output_type": "execute_result"
    },
    {
     "data": {
      "image/png": "[encoded data removed]",
      "text/plain": [
       "<Figure size 432x288 with 1 Axes>"
      ]
     },
     "metadata": {
      "needs_background": "light"
     },
     "output_type": "display_data"
    }
   ],
   "source": [
    "sns.distplot(df['Salary'])"
   ]
  },
  {
   "cell_type": "code",
   "execution_count": 95,
   "metadata": {},
   "outputs": [
    {
     "data": {
      "text/plain": [
       "<matplotlib.axes._subplots.AxesSubplot at 0x28c923cd248>"
      ]
     },
     "execution_count": 95,
     "metadata": {},
     "output_type": "execute_result"
    },
    {
     "data": {
      "image/png": "[encoded data removed]",
      "text/plain": [
       "<Figure size 432x288 with 1 Axes>"
      ]
     },
     "metadata": {
      "needs_background": "light"
     },
     "output_type": "display_data"
    }
   ],
   "source": [
    "sns.distplot(df['Spending'])"
   ]
  },
  {
   "cell_type": "code",
   "execution_count": 96,
   "metadata": {},
   "outputs": [
    {
     "data": {
      "text/plain": [
       "<matplotlib.axes._subplots.AxesSubplot at 0x28c927e57c8>"
      ]
     },
     "execution_count": 96,
     "metadata": {},
     "output_type": "execute_result"
    },
    {
     "data": {
      "image/png": "[encoded data removed]",
      "text/plain": [
       "<Figure size 432x288 with 1 Axes>"
      ]
     },
     "metadata": {
      "needs_background": "light"
     },
     "output_type": "display_data"
    }
   ],
   "source": [
    "sns.distplot(df['Text Messages'])"
   ]
  },
  {
   "cell_type": "markdown",
   "metadata": {},
   "source": [
    "From the above plots we can infer that GPA and Salary are normally distributed as both the data are forming bell shape where as in Spending and Text messages are moderatele  right skewed."
   ]
  },
  {
   "cell_type": "code",
   "execution_count": null,
   "metadata": {},
   "outputs": [],
   "source": []
  },
  {
   "cell_type": "markdown",
   "metadata": {},
   "source": [
    "An important quality characteristic used by the manufacturers of ABC asphalt shingles is the amount of moisture the shingles contain when they are packaged. Customers may feel that they have purchased a product lacking in quality if they find moisture and wet shingles inside the packaging. In some cases, excessive moisture can cause the granules attached to the shingles for texture and coloring purposes to fall off the shingles resulting in appearance problems. To monitor the amount of moisture present, the company conducts moisture tests. A shingle is weighed and then dried. The shingle is then reweighed, and based on the amount of moisture taken out of the product, the pounds of moisture per 100 square feet are calculated. The company would like to show that the mean moisture content is less than 0.35 pounds per 100 square feet.\n",
    "\n",
    "\n",
    "\n"
   ]
  },
  {
   "cell_type": "code",
   "execution_count": 97,
   "metadata": {},
   "outputs": [
    {
     "data": {
      "text/html": [
       "<div>\n",
       "<style scoped>\n",
       "    .dataframe tbody tr th:only-of-type {\n",
       "        vertical-align: middle;\n",
       "    }\n",
       "\n",
       "    .dataframe tbody tr th {\n",
       "        vertical-align: top;\n",
       "    }\n",
       "\n",
       "    .dataframe thead th {\n",
       "        text-align: right;\n",
       "    }\n",
       "</style>\n",
       "<table border=\"1\" class=\"dataframe\">\n",
       "  <thead>\n",
       "    <tr style=\"text-align: right;\">\n",
       "      <th></th>\n",
       "      <th>A</th>\n",
       "      <th>B</th>\n",
       "    </tr>\n",
       "  </thead>\n",
       "  <tbody>\n",
       "    <tr>\n",
       "      <td>0</td>\n",
       "      <td>0.44</td>\n",
       "      <td>0.14</td>\n",
       "    </tr>\n",
       "    <tr>\n",
       "      <td>1</td>\n",
       "      <td>0.61</td>\n",
       "      <td>0.15</td>\n",
       "    </tr>\n",
       "    <tr>\n",
       "      <td>2</td>\n",
       "      <td>0.47</td>\n",
       "      <td>0.31</td>\n",
       "    </tr>\n",
       "    <tr>\n",
       "      <td>3</td>\n",
       "      <td>0.30</td>\n",
       "      <td>0.16</td>\n",
       "    </tr>\n",
       "    <tr>\n",
       "      <td>4</td>\n",
       "      <td>0.15</td>\n",
       "      <td>0.37</td>\n",
       "    </tr>\n",
       "    <tr>\n",
       "      <td>5</td>\n",
       "      <td>0.24</td>\n",
       "      <td>0.18</td>\n",
       "    </tr>\n",
       "    <tr>\n",
       "      <td>6</td>\n",
       "      <td>0.16</td>\n",
       "      <td>0.42</td>\n",
       "    </tr>\n",
       "    <tr>\n",
       "      <td>7</td>\n",
       "      <td>0.20</td>\n",
       "      <td>0.58</td>\n",
       "    </tr>\n",
       "    <tr>\n",
       "      <td>8</td>\n",
       "      <td>0.20</td>\n",
       "      <td>0.25</td>\n",
       "    </tr>\n",
       "    <tr>\n",
       "      <td>9</td>\n",
       "      <td>0.20</td>\n",
       "      <td>0.41</td>\n",
       "    </tr>\n",
       "    <tr>\n",
       "      <td>10</td>\n",
       "      <td>0.26</td>\n",
       "      <td>0.17</td>\n",
       "    </tr>\n",
       "    <tr>\n",
       "      <td>11</td>\n",
       "      <td>0.14</td>\n",
       "      <td>0.13</td>\n",
       "    </tr>\n",
       "    <tr>\n",
       "      <td>12</td>\n",
       "      <td>0.33</td>\n",
       "      <td>0.23</td>\n",
       "    </tr>\n",
       "    <tr>\n",
       "      <td>13</td>\n",
       "      <td>0.13</td>\n",
       "      <td>0.11</td>\n",
       "    </tr>\n",
       "    <tr>\n",
       "      <td>14</td>\n",
       "      <td>0.72</td>\n",
       "      <td>0.10</td>\n",
       "    </tr>\n",
       "    <tr>\n",
       "      <td>15</td>\n",
       "      <td>0.51</td>\n",
       "      <td>0.19</td>\n",
       "    </tr>\n",
       "    <tr>\n",
       "      <td>16</td>\n",
       "      <td>0.28</td>\n",
       "      <td>0.22</td>\n",
       "    </tr>\n",
       "    <tr>\n",
       "      <td>17</td>\n",
       "      <td>0.39</td>\n",
       "      <td>0.44</td>\n",
       "    </tr>\n",
       "    <tr>\n",
       "      <td>18</td>\n",
       "      <td>0.39</td>\n",
       "      <td>0.11</td>\n",
       "    </tr>\n",
       "    <tr>\n",
       "      <td>19</td>\n",
       "      <td>0.25</td>\n",
       "      <td>0.11</td>\n",
       "    </tr>\n",
       "    <tr>\n",
       "      <td>20</td>\n",
       "      <td>0.16</td>\n",
       "      <td>0.31</td>\n",
       "    </tr>\n",
       "    <tr>\n",
       "      <td>21</td>\n",
       "      <td>0.20</td>\n",
       "      <td>0.43</td>\n",
       "    </tr>\n",
       "    <tr>\n",
       "      <td>22</td>\n",
       "      <td>0.22</td>\n",
       "      <td>0.26</td>\n",
       "    </tr>\n",
       "    <tr>\n",
       "      <td>23</td>\n",
       "      <td>0.42</td>\n",
       "      <td>0.18</td>\n",
       "    </tr>\n",
       "    <tr>\n",
       "      <td>24</td>\n",
       "      <td>0.24</td>\n",
       "      <td>0.44</td>\n",
       "    </tr>\n",
       "    <tr>\n",
       "      <td>25</td>\n",
       "      <td>0.21</td>\n",
       "      <td>0.43</td>\n",
       "    </tr>\n",
       "    <tr>\n",
       "      <td>26</td>\n",
       "      <td>0.49</td>\n",
       "      <td>0.16</td>\n",
       "    </tr>\n",
       "    <tr>\n",
       "      <td>27</td>\n",
       "      <td>0.34</td>\n",
       "      <td>0.52</td>\n",
       "    </tr>\n",
       "    <tr>\n",
       "      <td>28</td>\n",
       "      <td>0.36</td>\n",
       "      <td>0.36</td>\n",
       "    </tr>\n",
       "    <tr>\n",
       "      <td>29</td>\n",
       "      <td>0.29</td>\n",
       "      <td>0.22</td>\n",
       "    </tr>\n",
       "    <tr>\n",
       "      <td>30</td>\n",
       "      <td>0.27</td>\n",
       "      <td>0.39</td>\n",
       "    </tr>\n",
       "    <tr>\n",
       "      <td>31</td>\n",
       "      <td>0.40</td>\n",
       "      <td>nan</td>\n",
       "    </tr>\n",
       "    <tr>\n",
       "      <td>32</td>\n",
       "      <td>0.29</td>\n",
       "      <td>nan</td>\n",
       "    </tr>\n",
       "    <tr>\n",
       "      <td>33</td>\n",
       "      <td>0.43</td>\n",
       "      <td>nan</td>\n",
       "    </tr>\n",
       "    <tr>\n",
       "      <td>34</td>\n",
       "      <td>0.34</td>\n",
       "      <td>nan</td>\n",
       "    </tr>\n",
       "    <tr>\n",
       "      <td>35</td>\n",
       "      <td>0.37</td>\n",
       "      <td>nan</td>\n",
       "    </tr>\n",
       "  </tbody>\n",
       "</table>\n",
       "</div>"
      ],
      "text/plain": [
       "      A    B\n",
       "0  0.44 0.14\n",
       "1  0.61 0.15\n",
       "2  0.47 0.31\n",
       "3  0.30 0.16\n",
       "4  0.15 0.37\n",
       "5  0.24 0.18\n",
       "6  0.16 0.42\n",
       "7  0.20 0.58\n",
       "8  0.20 0.25\n",
       "9  0.20 0.41\n",
       "10 0.26 0.17\n",
       "11 0.14 0.13\n",
       "12 0.33 0.23\n",
       "13 0.13 0.11\n",
       "14 0.72 0.10\n",
       "15 0.51 0.19\n",
       "16 0.28 0.22\n",
       "17 0.39 0.44\n",
       "18 0.39 0.11\n",
       "19 0.25 0.11\n",
       "20 0.16 0.31\n",
       "21 0.20 0.43\n",
       "22 0.22 0.26\n",
       "23 0.42 0.18\n",
       "24 0.24 0.44\n",
       "25 0.21 0.43\n",
       "26 0.49 0.16\n",
       "27 0.34 0.52\n",
       "28 0.36 0.36\n",
       "29 0.29 0.22\n",
       "30 0.27 0.39\n",
       "31 0.40  nan\n",
       "32 0.29  nan\n",
       "33 0.43  nan\n",
       "34 0.34  nan\n",
       "35 0.37  nan"
      ]
     },
     "execution_count": 97,
     "metadata": {},
     "output_type": "execute_result"
    }
   ],
   "source": [
    "df= pd.read_csv('C:\\\\Users\\\\amvi\\\\Downloads\\\\A+&+B+shingles.csv')\n",
    "df"
   ]
  },
  {
   "cell_type": "markdown",
   "metadata": {},
   "source": [
    "3.1 Do you think there is evidence that means moisture contents in both types of shingles are within the permissible limits? State your conclusions clearly showing all step"
   ]
  },
  {
   "cell_type": "code",
   "execution_count": 98,
   "metadata": {},
   "outputs": [
    {
     "name": "stdout",
     "output_type": "stream",
     "text": [
      "One sample t test \n",
      "t statistic: -1.4735046253382782 p value: 0.07477633144907513 \n"
     ]
    }
   ],
   "source": [
    "t_statistic, p_value = stats.ttest_1samp(df.A, 0.35)\n",
    "print('One sample t test \\nt statistic: {0} p value: {1} '.format(t_statistic, p_value/2))\n"
   ]
  },
  {
   "cell_type": "markdown",
   "metadata": {},
   "source": [
    "Since pvalue > 0.05, we do not reject H0 . There is not enough evidence to conclude that the mean moisture\n",
    "content for Sample A shingles is less than 0.35 pounds per 100 square feet as  p-value = 0.0748. "
   ]
  },
  {
   "cell_type": "code",
   "execution_count": 99,
   "metadata": {},
   "outputs": [
    {
     "name": "stdout",
     "output_type": "stream",
     "text": [
      "One sample t test \n",
      "t statistic: -3.1003313069986995 p value: 0.0020904774003191826 \n"
     ]
    }
   ],
   "source": [
    "t_statistic, p_value =stats. ttest_1samp(df.B, 0.35,nan_policy='omit' )\n",
    "print('One sample t test \\nt statistic: {0} p value: {1} '.format(t_statistic, p_value/2))\n"
   ]
  },
  {
   "cell_type": "markdown",
   "metadata": {},
   "source": [
    "Since pvalue < 0.05, reject H0 . There is enough evidence to conclude that the mean moisture content for\n",
    "Sample B shingles is not less than 0.35 pounds per 100 square feet. p-value = 0.0021. "
   ]
  },
  {
   "cell_type": "markdown",
   "metadata": {},
   "source": [
    "3.2 Do you think that the population mean for shingles A and B are equal? Form the hypothesis and conduct the test of the hypothesis. What assumption do you need to check before the test for equality of means is performed?"
   ]
  },
  {
   "cell_type": "code",
   "execution_count": 100,
   "metadata": {},
   "outputs": [
    {
     "name": "stdout",
     "output_type": "stream",
     "text": [
      "t_statistic=1.29 and pvalue=0.202\n"
     ]
    }
   ],
   "source": [
    "#H0 : μ(A)= μ(B) \n",
    "#Ha : μ(A)!= μ(B) \n",
    "#α = 0.05 \n",
    "\n",
    "t_statistic,p_value= stats.ttest_ind(df['A'],df['B'],equal_var=True ,nan_policy='omit') \n",
    "print(\"t_statistic={} and pvalue={}\".format(round(t_statistic,3),round(p_value,3)))\n"
   ]
  },
  {
   "cell_type": "markdown",
   "metadata": {},
   "source": [
    "As the pvalue > 0.05 we do not reject the H0 and we can infer that population mean for shingles A and B are equal. When running a two-sample t-test, the basic conditions are that the distributions of the two populations are normal, and that the variances of the two distributions are the same. \n",
    "\n"
   ]
  }
 ],
 "metadata": {
  "kernelspec": {
   "display_name": "Python 3",
   "language": "python",
   "name": "python3"
  },
  "language_info": {
   "codemirror_mode": {
    "name": "ipython",
    "version": 3
   },
   "file_extension": ".py",
   "mimetype": "text/x-python",
   "name": "python",
   "nbconvert_exporter": "python",
   "pygments_lexer": "ipython3",
   "version": "3.7.4"
  }
 },
 "nbformat": 4,
 "nbformat_minor": 2
}
